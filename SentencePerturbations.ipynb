{
  "cells": [
    {
      "cell_type": "code",
      "execution_count": 1,
      "metadata": {
        "colab": {
          "base_uri": "https://localhost:8080/"
        },
        "id": "gncCU4chs3kE",
        "outputId": "7608e8c0-9bbd-4c66-f423-f1c6b9c250ed"
      },
      "outputs": [
        {
          "output_type": "stream",
          "name": "stdout",
          "text": [
            "Mounted at /content/drive\n"
          ]
        }
      ],
      "source": [
        "from google.colab import drive\n",
        "drive.mount('/content/drive')\n"
      ]
    },
    {
      "cell_type": "code",
      "execution_count": 2,
      "metadata": {
        "id": "B0dq0XFJt5uN"
      },
      "outputs": [],
      "source": [
        "import os\n",
        "\n",
        "# Replace 'path/to/folder' with the path of the folder in your Google Drive\n",
        "folder_path = '/content/drive/MyDrive/scriptie'\n",
        "os.makedirs(folder_path, exist_ok=True)\n",
        "os.chdir(folder_path)\n"
      ]
    },
    {
      "cell_type": "code",
      "execution_count": 3,
      "metadata": {
        "colab": {
          "base_uri": "https://localhost:8080/"
        },
        "id": "0hKhy1ebtgKI",
        "outputId": "5728bca3-9fd6-4547-e1b9-04f26be7d340"
      },
      "outputs": [
        {
          "output_type": "stream",
          "name": "stdout",
          "text": [
            "Collecting datasets\n",
            "  Downloading datasets-2.13.1-py3-none-any.whl (486 kB)\n",
            "\u001b[?25l     \u001b[90m━━━━━━━━━━━━━━━━━━━━━━━━━━━━━━━━━━━━━━━━\u001b[0m \u001b[32m0.0/486.2 kB\u001b[0m \u001b[31m?\u001b[0m eta \u001b[36m-:--:--\u001b[0m\r\u001b[2K     \u001b[90m━━━━━━━━━━━━━━━━━━━━━━━━━━━━━━━━━━━━━━\u001b[0m \u001b[32m486.2/486.2 kB\u001b[0m \u001b[31m37.9 MB/s\u001b[0m eta \u001b[36m0:00:00\u001b[0m\n",
            "\u001b[?25hRequirement already satisfied: numpy>=1.17 in /usr/local/lib/python3.10/dist-packages (from datasets) (1.22.4)\n",
            "Requirement already satisfied: pyarrow>=8.0.0 in /usr/local/lib/python3.10/dist-packages (from datasets) (9.0.0)\n",
            "Collecting dill<0.3.7,>=0.3.0 (from datasets)\n",
            "  Downloading dill-0.3.6-py3-none-any.whl (110 kB)\n",
            "\u001b[?25l     \u001b[90m━━━━━━━━━━━━━━━━━━━━━━━━━━━━━━━━━━━━━━━━\u001b[0m \u001b[32m0.0/110.5 kB\u001b[0m \u001b[31m?\u001b[0m eta \u001b[36m-:--:--\u001b[0m\r\u001b[2K     \u001b[90m━━━━━━━━━━━━━━━━━━━━━━━━━━━━━━━━━━━━━━\u001b[0m \u001b[32m110.5/110.5 kB\u001b[0m \u001b[31m13.5 MB/s\u001b[0m eta \u001b[36m0:00:00\u001b[0m\n",
            "\u001b[?25hRequirement already satisfied: pandas in /usr/local/lib/python3.10/dist-packages (from datasets) (1.5.3)\n",
            "Requirement already satisfied: requests>=2.19.0 in /usr/local/lib/python3.10/dist-packages (from datasets) (2.27.1)\n",
            "Requirement already satisfied: tqdm>=4.62.1 in /usr/local/lib/python3.10/dist-packages (from datasets) (4.65.0)\n",
            "Collecting xxhash (from datasets)\n",
            "  Downloading xxhash-3.2.0-cp310-cp310-manylinux_2_17_x86_64.manylinux2014_x86_64.whl (212 kB)\n",
            "\u001b[2K     \u001b[90m━━━━━━━━━━━━━━━━━━━━━━━━━━━━━━━━━━━━━━\u001b[0m \u001b[32m212.5/212.5 kB\u001b[0m \u001b[31m25.5 MB/s\u001b[0m eta \u001b[36m0:00:00\u001b[0m\n",
            "\u001b[?25hCollecting multiprocess (from datasets)\n",
            "  Downloading multiprocess-0.70.14-py310-none-any.whl (134 kB)\n",
            "\u001b[2K     \u001b[90m━━━━━━━━━━━━━━━━━━━━━━━━━━━━━━━━━━━━━━\u001b[0m \u001b[32m134.3/134.3 kB\u001b[0m \u001b[31m17.9 MB/s\u001b[0m eta \u001b[36m0:00:00\u001b[0m\n",
            "\u001b[?25hRequirement already satisfied: fsspec[http]>=2021.11.1 in /usr/local/lib/python3.10/dist-packages (from datasets) (2023.6.0)\n",
            "Requirement already satisfied: aiohttp in /usr/local/lib/python3.10/dist-packages (from datasets) (3.8.4)\n",
            "Collecting huggingface-hub<1.0.0,>=0.11.0 (from datasets)\n",
            "  Downloading huggingface_hub-0.16.4-py3-none-any.whl (268 kB)\n",
            "\u001b[2K     \u001b[90m━━━━━━━━━━━━━━━━━━━━━━━━━━━━━━━━━━━━━━\u001b[0m \u001b[32m268.8/268.8 kB\u001b[0m \u001b[31m31.1 MB/s\u001b[0m eta \u001b[36m0:00:00\u001b[0m\n",
            "\u001b[?25hRequirement already satisfied: packaging in /usr/local/lib/python3.10/dist-packages (from datasets) (23.1)\n",
            "Requirement already satisfied: pyyaml>=5.1 in /usr/local/lib/python3.10/dist-packages (from datasets) (6.0)\n",
            "Requirement already satisfied: attrs>=17.3.0 in /usr/local/lib/python3.10/dist-packages (from aiohttp->datasets) (23.1.0)\n",
            "Requirement already satisfied: charset-normalizer<4.0,>=2.0 in /usr/local/lib/python3.10/dist-packages (from aiohttp->datasets) (2.0.12)\n",
            "Requirement already satisfied: multidict<7.0,>=4.5 in /usr/local/lib/python3.10/dist-packages (from aiohttp->datasets) (6.0.4)\n",
            "Requirement already satisfied: async-timeout<5.0,>=4.0.0a3 in /usr/local/lib/python3.10/dist-packages (from aiohttp->datasets) (4.0.2)\n",
            "Requirement already satisfied: yarl<2.0,>=1.0 in /usr/local/lib/python3.10/dist-packages (from aiohttp->datasets) (1.9.2)\n",
            "Requirement already satisfied: frozenlist>=1.1.1 in /usr/local/lib/python3.10/dist-packages (from aiohttp->datasets) (1.3.3)\n",
            "Requirement already satisfied: aiosignal>=1.1.2 in /usr/local/lib/python3.10/dist-packages (from aiohttp->datasets) (1.3.1)\n",
            "Requirement already satisfied: filelock in /usr/local/lib/python3.10/dist-packages (from huggingface-hub<1.0.0,>=0.11.0->datasets) (3.12.2)\n",
            "Requirement already satisfied: typing-extensions>=3.7.4.3 in /usr/local/lib/python3.10/dist-packages (from huggingface-hub<1.0.0,>=0.11.0->datasets) (4.6.3)\n",
            "Requirement already satisfied: urllib3<1.27,>=1.21.1 in /usr/local/lib/python3.10/dist-packages (from requests>=2.19.0->datasets) (1.26.16)\n",
            "Requirement already satisfied: certifi>=2017.4.17 in /usr/local/lib/python3.10/dist-packages (from requests>=2.19.0->datasets) (2023.5.7)\n",
            "Requirement already satisfied: idna<4,>=2.5 in /usr/local/lib/python3.10/dist-packages (from requests>=2.19.0->datasets) (3.4)\n",
            "Requirement already satisfied: python-dateutil>=2.8.1 in /usr/local/lib/python3.10/dist-packages (from pandas->datasets) (2.8.2)\n",
            "Requirement already satisfied: pytz>=2020.1 in /usr/local/lib/python3.10/dist-packages (from pandas->datasets) (2022.7.1)\n",
            "Requirement already satisfied: six>=1.5 in /usr/local/lib/python3.10/dist-packages (from python-dateutil>=2.8.1->pandas->datasets) (1.16.0)\n",
            "Installing collected packages: xxhash, dill, multiprocess, huggingface-hub, datasets\n",
            "Successfully installed datasets-2.13.1 dill-0.3.6 huggingface-hub-0.16.4 multiprocess-0.70.14 xxhash-3.2.0\n",
            "Collecting openai\n",
            "  Downloading openai-0.27.8-py3-none-any.whl (73 kB)\n",
            "\u001b[2K     \u001b[90m━━━━━━━━━━━━━━━━━━━━━━━━━━━━━━━━━━━━━━━━\u001b[0m \u001b[32m73.6/73.6 kB\u001b[0m \u001b[31m7.2 MB/s\u001b[0m eta \u001b[36m0:00:00\u001b[0m\n",
            "\u001b[?25hRequirement already satisfied: requests>=2.20 in /usr/local/lib/python3.10/dist-packages (from openai) (2.27.1)\n",
            "Requirement already satisfied: tqdm in /usr/local/lib/python3.10/dist-packages (from openai) (4.65.0)\n",
            "Requirement already satisfied: aiohttp in /usr/local/lib/python3.10/dist-packages (from openai) (3.8.4)\n",
            "Requirement already satisfied: urllib3<1.27,>=1.21.1 in /usr/local/lib/python3.10/dist-packages (from requests>=2.20->openai) (1.26.16)\n",
            "Requirement already satisfied: certifi>=2017.4.17 in /usr/local/lib/python3.10/dist-packages (from requests>=2.20->openai) (2023.5.7)\n",
            "Requirement already satisfied: charset-normalizer~=2.0.0 in /usr/local/lib/python3.10/dist-packages (from requests>=2.20->openai) (2.0.12)\n",
            "Requirement already satisfied: idna<4,>=2.5 in /usr/local/lib/python3.10/dist-packages (from requests>=2.20->openai) (3.4)\n",
            "Requirement already satisfied: attrs>=17.3.0 in /usr/local/lib/python3.10/dist-packages (from aiohttp->openai) (23.1.0)\n",
            "Requirement already satisfied: multidict<7.0,>=4.5 in /usr/local/lib/python3.10/dist-packages (from aiohttp->openai) (6.0.4)\n",
            "Requirement already satisfied: async-timeout<5.0,>=4.0.0a3 in /usr/local/lib/python3.10/dist-packages (from aiohttp->openai) (4.0.2)\n",
            "Requirement already satisfied: yarl<2.0,>=1.0 in /usr/local/lib/python3.10/dist-packages (from aiohttp->openai) (1.9.2)\n",
            "Requirement already satisfied: frozenlist>=1.1.1 in /usr/local/lib/python3.10/dist-packages (from aiohttp->openai) (1.3.3)\n",
            "Requirement already satisfied: aiosignal>=1.1.2 in /usr/local/lib/python3.10/dist-packages (from aiohttp->openai) (1.3.1)\n",
            "Installing collected packages: openai\n",
            "Successfully installed openai-0.27.8\n",
            "Collecting transformers\n",
            "  Downloading transformers-4.30.2-py3-none-any.whl (7.2 MB)\n",
            "\u001b[2K     \u001b[90m━━━━━━━━━━━━━━━━━━━━━━━━━━━━━━━━━━━━━━━━\u001b[0m \u001b[32m7.2/7.2 MB\u001b[0m \u001b[31m64.7 MB/s\u001b[0m eta \u001b[36m0:00:00\u001b[0m\n",
            "\u001b[?25hRequirement already satisfied: filelock in /usr/local/lib/python3.10/dist-packages (from transformers) (3.12.2)\n",
            "Requirement already satisfied: huggingface-hub<1.0,>=0.14.1 in /usr/local/lib/python3.10/dist-packages (from transformers) (0.16.4)\n",
            "Requirement already satisfied: numpy>=1.17 in /usr/local/lib/python3.10/dist-packages (from transformers) (1.22.4)\n",
            "Requirement already satisfied: packaging>=20.0 in /usr/local/lib/python3.10/dist-packages (from transformers) (23.1)\n",
            "Requirement already satisfied: pyyaml>=5.1 in /usr/local/lib/python3.10/dist-packages (from transformers) (6.0)\n",
            "Requirement already satisfied: regex!=2019.12.17 in /usr/local/lib/python3.10/dist-packages (from transformers) (2022.10.31)\n",
            "Requirement already satisfied: requests in /usr/local/lib/python3.10/dist-packages (from transformers) (2.27.1)\n",
            "Collecting tokenizers!=0.11.3,<0.14,>=0.11.1 (from transformers)\n",
            "  Downloading tokenizers-0.13.3-cp310-cp310-manylinux_2_17_x86_64.manylinux2014_x86_64.whl (7.8 MB)\n",
            "\u001b[2K     \u001b[90m━━━━━━━━━━━━━━━━━━━━━━━━━━━━━━━━━━━━━━━━\u001b[0m \u001b[32m7.8/7.8 MB\u001b[0m \u001b[31m119.5 MB/s\u001b[0m eta \u001b[36m0:00:00\u001b[0m\n",
            "\u001b[?25hCollecting safetensors>=0.3.1 (from transformers)\n",
            "  Downloading safetensors-0.3.1-cp310-cp310-manylinux_2_17_x86_64.manylinux2014_x86_64.whl (1.3 MB)\n",
            "\u001b[2K     \u001b[90m━━━━━━━━━━━━━━━━━━━━━━━━━━━━━━━━━━━━━━━━\u001b[0m \u001b[32m1.3/1.3 MB\u001b[0m \u001b[31m78.7 MB/s\u001b[0m eta \u001b[36m0:00:00\u001b[0m\n",
            "\u001b[?25hRequirement already satisfied: tqdm>=4.27 in /usr/local/lib/python3.10/dist-packages (from transformers) (4.65.0)\n",
            "Requirement already satisfied: fsspec in /usr/local/lib/python3.10/dist-packages (from huggingface-hub<1.0,>=0.14.1->transformers) (2023.6.0)\n",
            "Requirement already satisfied: typing-extensions>=3.7.4.3 in /usr/local/lib/python3.10/dist-packages (from huggingface-hub<1.0,>=0.14.1->transformers) (4.6.3)\n",
            "Requirement already satisfied: urllib3<1.27,>=1.21.1 in /usr/local/lib/python3.10/dist-packages (from requests->transformers) (1.26.16)\n",
            "Requirement already satisfied: certifi>=2017.4.17 in /usr/local/lib/python3.10/dist-packages (from requests->transformers) (2023.5.7)\n",
            "Requirement already satisfied: charset-normalizer~=2.0.0 in /usr/local/lib/python3.10/dist-packages (from requests->transformers) (2.0.12)\n",
            "Requirement already satisfied: idna<4,>=2.5 in /usr/local/lib/python3.10/dist-packages (from requests->transformers) (3.4)\n",
            "Installing collected packages: tokenizers, safetensors, transformers\n",
            "Successfully installed safetensors-0.3.1 tokenizers-0.13.3 transformers-4.30.2\n",
            "Collecting sentence-transformers\n",
            "  Downloading sentence-transformers-2.2.2.tar.gz (85 kB)\n",
            "\u001b[2K     \u001b[90m━━━━━━━━━━━━━━━━━━━━━━━━━━━━━━━━━━━━━━━━\u001b[0m \u001b[32m86.0/86.0 kB\u001b[0m \u001b[31m8.7 MB/s\u001b[0m eta \u001b[36m0:00:00\u001b[0m\n",
            "\u001b[?25h  Preparing metadata (setup.py) ... \u001b[?25l\u001b[?25hdone\n",
            "Requirement already satisfied: transformers<5.0.0,>=4.6.0 in /usr/local/lib/python3.10/dist-packages (from sentence-transformers) (4.30.2)\n",
            "Requirement already satisfied: tqdm in /usr/local/lib/python3.10/dist-packages (from sentence-transformers) (4.65.0)\n",
            "Requirement already satisfied: torch>=1.6.0 in /usr/local/lib/python3.10/dist-packages (from sentence-transformers) (2.0.1+cu118)\n",
            "Requirement already satisfied: torchvision in /usr/local/lib/python3.10/dist-packages (from sentence-transformers) (0.15.2+cu118)\n",
            "Requirement already satisfied: numpy in /usr/local/lib/python3.10/dist-packages (from sentence-transformers) (1.22.4)\n",
            "Requirement already satisfied: scikit-learn in /usr/local/lib/python3.10/dist-packages (from sentence-transformers) (1.2.2)\n",
            "Requirement already satisfied: scipy in /usr/local/lib/python3.10/dist-packages (from sentence-transformers) (1.10.1)\n",
            "Requirement already satisfied: nltk in /usr/local/lib/python3.10/dist-packages (from sentence-transformers) (3.8.1)\n",
            "Collecting sentencepiece (from sentence-transformers)\n",
            "  Downloading sentencepiece-0.1.99-cp310-cp310-manylinux_2_17_x86_64.manylinux2014_x86_64.whl (1.3 MB)\n",
            "\u001b[2K     \u001b[90m━━━━━━━━━━━━━━━━━━━━━━━━━━━━━━━━━━━━━━━━\u001b[0m \u001b[32m1.3/1.3 MB\u001b[0m \u001b[31m75.9 MB/s\u001b[0m eta \u001b[36m0:00:00\u001b[0m\n",
            "\u001b[?25hRequirement already satisfied: huggingface-hub>=0.4.0 in /usr/local/lib/python3.10/dist-packages (from sentence-transformers) (0.16.4)\n",
            "Requirement already satisfied: filelock in /usr/local/lib/python3.10/dist-packages (from huggingface-hub>=0.4.0->sentence-transformers) (3.12.2)\n",
            "Requirement already satisfied: fsspec in /usr/local/lib/python3.10/dist-packages (from huggingface-hub>=0.4.0->sentence-transformers) (2023.6.0)\n",
            "Requirement already satisfied: requests in /usr/local/lib/python3.10/dist-packages (from huggingface-hub>=0.4.0->sentence-transformers) (2.27.1)\n",
            "Requirement already satisfied: pyyaml>=5.1 in /usr/local/lib/python3.10/dist-packages (from huggingface-hub>=0.4.0->sentence-transformers) (6.0)\n",
            "Requirement already satisfied: typing-extensions>=3.7.4.3 in /usr/local/lib/python3.10/dist-packages (from huggingface-hub>=0.4.0->sentence-transformers) (4.6.3)\n",
            "Requirement already satisfied: packaging>=20.9 in /usr/local/lib/python3.10/dist-packages (from huggingface-hub>=0.4.0->sentence-transformers) (23.1)\n",
            "Requirement already satisfied: sympy in /usr/local/lib/python3.10/dist-packages (from torch>=1.6.0->sentence-transformers) (1.11.1)\n",
            "Requirement already satisfied: networkx in /usr/local/lib/python3.10/dist-packages (from torch>=1.6.0->sentence-transformers) (3.1)\n",
            "Requirement already satisfied: jinja2 in /usr/local/lib/python3.10/dist-packages (from torch>=1.6.0->sentence-transformers) (3.1.2)\n",
            "Requirement already satisfied: triton==2.0.0 in /usr/local/lib/python3.10/dist-packages (from torch>=1.6.0->sentence-transformers) (2.0.0)\n",
            "Requirement already satisfied: cmake in /usr/local/lib/python3.10/dist-packages (from triton==2.0.0->torch>=1.6.0->sentence-transformers) (3.25.2)\n",
            "Requirement already satisfied: lit in /usr/local/lib/python3.10/dist-packages (from triton==2.0.0->torch>=1.6.0->sentence-transformers) (16.0.6)\n",
            "Requirement already satisfied: regex!=2019.12.17 in /usr/local/lib/python3.10/dist-packages (from transformers<5.0.0,>=4.6.0->sentence-transformers) (2022.10.31)\n",
            "Requirement already satisfied: tokenizers!=0.11.3,<0.14,>=0.11.1 in /usr/local/lib/python3.10/dist-packages (from transformers<5.0.0,>=4.6.0->sentence-transformers) (0.13.3)\n",
            "Requirement already satisfied: safetensors>=0.3.1 in /usr/local/lib/python3.10/dist-packages (from transformers<5.0.0,>=4.6.0->sentence-transformers) (0.3.1)\n",
            "Requirement already satisfied: click in /usr/local/lib/python3.10/dist-packages (from nltk->sentence-transformers) (8.1.3)\n",
            "Requirement already satisfied: joblib in /usr/local/lib/python3.10/dist-packages (from nltk->sentence-transformers) (1.2.0)\n",
            "Requirement already satisfied: threadpoolctl>=2.0.0 in /usr/local/lib/python3.10/dist-packages (from scikit-learn->sentence-transformers) (3.1.0)\n",
            "Requirement already satisfied: pillow!=8.3.*,>=5.3.0 in /usr/local/lib/python3.10/dist-packages (from torchvision->sentence-transformers) (8.4.0)\n",
            "Requirement already satisfied: MarkupSafe>=2.0 in /usr/local/lib/python3.10/dist-packages (from jinja2->torch>=1.6.0->sentence-transformers) (2.1.3)\n",
            "Requirement already satisfied: urllib3<1.27,>=1.21.1 in /usr/local/lib/python3.10/dist-packages (from requests->huggingface-hub>=0.4.0->sentence-transformers) (1.26.16)\n",
            "Requirement already satisfied: certifi>=2017.4.17 in /usr/local/lib/python3.10/dist-packages (from requests->huggingface-hub>=0.4.0->sentence-transformers) (2023.5.7)\n",
            "Requirement already satisfied: charset-normalizer~=2.0.0 in /usr/local/lib/python3.10/dist-packages (from requests->huggingface-hub>=0.4.0->sentence-transformers) (2.0.12)\n",
            "Requirement already satisfied: idna<4,>=2.5 in /usr/local/lib/python3.10/dist-packages (from requests->huggingface-hub>=0.4.0->sentence-transformers) (3.4)\n",
            "Requirement already satisfied: mpmath>=0.19 in /usr/local/lib/python3.10/dist-packages (from sympy->torch>=1.6.0->sentence-transformers) (1.3.0)\n",
            "Building wheels for collected packages: sentence-transformers\n",
            "  Building wheel for sentence-transformers (setup.py) ... \u001b[?25l\u001b[?25hdone\n",
            "  Created wheel for sentence-transformers: filename=sentence_transformers-2.2.2-py3-none-any.whl size=125926 sha256=577662471a4b7295210e3cc4c58b2e137f8227a70361d292651c4d6e3fbd652b\n",
            "  Stored in directory: /root/.cache/pip/wheels/62/f2/10/1e606fd5f02395388f74e7462910fe851042f97238cbbd902f\n",
            "Successfully built sentence-transformers\n",
            "Installing collected packages: sentencepiece, sentence-transformers\n",
            "Successfully installed sentence-transformers-2.2.2 sentencepiece-0.1.99\n"
          ]
        }
      ],
      "source": [
        "! pip install datasets\n",
        "! pip install openai\n",
        "! pip install transformers\n",
        "! pip install sentence-transformers\n"
      ]
    },
    {
      "cell_type": "code",
      "execution_count": 4,
      "metadata": {
        "id": "DkT4St1LRaYQ"
      },
      "outputs": [],
      "source": [
        "import json\n",
        "from datasets import load_dataset, load_from_disk\n",
        "import openai\n",
        "import time\n",
        "from transformers import AutoTokenizer, AutoModelForSequenceClassification, pipeline\n",
        "from sklearn.metrics import accuracy_score, precision_score, recall_score, f1_score, confusion_matrix, ConfusionMatrixDisplay\n",
        "import torch\n",
        "from collections import Counter, defaultdict\n",
        "from scipy.stats import entropy\n",
        "import random"
      ]
    },
    {
      "cell_type": "code",
      "execution_count": 5,
      "metadata": {
        "id": "yBpMMVYLPqaU"
      },
      "outputs": [],
      "source": [
        "dataset_path = \"/content/drive/MyDrive/scriptie/MultiNLI\""
      ]
    },
    {
      "cell_type": "code",
      "execution_count": 6,
      "metadata": {
        "id": "fl8QfavhPzdq"
      },
      "outputs": [],
      "source": [
        "output_path = \"/content/drive/MyDrive/scriptie/multi_nli_perturbations_matched.json\""
      ]
    },
    {
      "cell_type": "code",
      "execution_count": 7,
      "metadata": {
        "id": "TAbO6u-RorTm"
      },
      "outputs": [],
      "source": [
        "# Create a list to store the data\n",
        "data = []"
      ]
    },
    {
      "cell_type": "code",
      "execution_count": 8,
      "metadata": {
        "id": "hqSe-I1dopQ-"
      },
      "outputs": [],
      "source": [
        "# Load existing data if output file already exists\n",
        "try:\n",
        "    with open(output_path, \"r\") as f:\n",
        "        data = json.load(f)\n",
        "    start_index = len(data)\n",
        "except FileNotFoundError:\n",
        "    start_index = 0"
      ]
    },
    {
      "cell_type": "markdown",
      "source": [
        "# If generating all data"
      ],
      "metadata": {
        "id": "U08h7ZCsGJeA"
      }
    },
    {
      "cell_type": "code",
      "execution_count": null,
      "metadata": {
        "id": "l5wfIVj5SjRU"
      },
      "outputs": [],
      "source": [
        "# openai.api_key = \"INSERT KEY\""
      ]
    },
    {
      "cell_type": "code",
      "execution_count": null,
      "metadata": {
        "id": "oOdPaLZAb4C8"
      },
      "outputs": [],
      "source": [
        "# Define the function for shuffling sentences\n",
        "def generate_shuffled_sentence(sentence):\n",
        "    response = openai.ChatCompletion.create(\n",
        "        model = \"gpt-3.5-turbo\",\n",
        "        messages = [\n",
        "            {\"role\": \"user\", \"content\": \"Shuffle the words or phrases in the sentence: '{}' while maintaining grammatical correctness but changing the meaning of the sentence.\".format(sentence)}\n",
        "        ],\n",
        "        temperature=0.5,\n",
        "        max_tokens=100,\n",
        "        n = 1\n",
        "    )\n",
        "\n",
        "    return response['choices'][0]['message']['content']"
      ]
    },
    {
      "cell_type": "code",
      "execution_count": null,
      "metadata": {
        "id": "UChAngAkuL4Z"
      },
      "outputs": [],
      "source": [
        "# Load the MultiNLI dataset\n",
        "dataset = load_dataset(\"multi_nli\")\n",
        "\n",
        "# Access different splits of the dataset\n",
        "train_dataset = dataset[\"train\"]\n",
        "validation_matched = dataset[\"validation_matched\"]\n",
        "validation_mismatched = dataset[\"validation_mismatched\"]\n",
        "\n",
        "# Print some examples from the training set\n",
        "for example in train_dataset.select(range(5)):\n",
        "    print(\"Premise:\", example[\"premise\"])\n",
        "    print(\"Hypothesis:\", example[\"hypothesis\"])\n",
        "    print(\"Label:\", example[\"label\"])\n",
        "    print()\n"
      ]
    },
    {
      "cell_type": "code",
      "execution_count": null,
      "metadata": {
        "id": "TvLE0T7IpOvt"
      },
      "outputs": [],
      "source": [
        "# Process each example in the validation_matched set\n",
        "for i in range(start_index, len(validation_matched)):\n",
        "    example = validation_matched[i]\n",
        "    # Get the original premise, hypothesis and label\n",
        "    original_premise = example[\"premise\"]\n",
        "    original_hypothesis = example[\"hypothesis\"]\n",
        "    original_label = example[\"label\"]\n",
        "\n",
        "    # Try to generate shuffled sentences with error handling\n",
        "    retries = 0\n",
        "    while retries < 3:\n",
        "      try:\n",
        "          perturbed_premise = generate_shuffled_sentence(original_premise)\n",
        "          perturbed_hypothesis = generate_shuffled_sentence(original_hypothesis)\n",
        "          break # break loop if succesful\n",
        "      except openai.OpenAIError as e:\n",
        "          print(f\"Received error: {e}. Retrying...\")\n",
        "          time.sleep(5)\n",
        "          retries += 1\n",
        "    else:  # if retries hit the limit, skip this example\n",
        "        print(\"Failed to generate perturbed sentences after 3 retries. Skipping this example.\")\n",
        "        continue\n",
        "\n",
        "    # Create a dictionary for the example and add it to the list\n",
        "    data.append({\n",
        "        \"original_premise\": original_premise,\n",
        "        \"perturbed_premise\": perturbed_premise,\n",
        "        \"original_hypothesis\": original_hypothesis,\n",
        "        \"perturbed_hypothesis\": perturbed_hypothesis,\n",
        "        \"original_label\": original_label,\n",
        "    })\n",
        "\n",
        "    # Save progress every 100 examples\n",
        "    if i % 100 == 0:\n",
        "        with open(output_path, \"w\") as output_file:\n",
        "            json.dump(data, output_file)\n",
        "            print(f\"Saved progress at example {i}.\")\n",
        "\n",
        "# Write the final data to a JSON file\n",
        "with open(output_path, \"w\") as output_file:\n",
        "    json.dump(data, output_file)"
      ]
    },
    {
      "cell_type": "markdown",
      "source": [
        "# If loading data"
      ],
      "metadata": {
        "id": "Bk8hA7BJGUsy"
      }
    },
    {
      "cell_type": "code",
      "execution_count": 9,
      "metadata": {
        "id": "15gNCwlZuVSA"
      },
      "outputs": [],
      "source": [
        "dataset = load_from_disk(dataset_path)"
      ]
    },
    {
      "cell_type": "code",
      "execution_count": 10,
      "metadata": {
        "id": "6oRd45i7QMAM"
      },
      "outputs": [],
      "source": [
        "# Load the MultiNLI dataset\n",
        "# dataset = load_dataset(\"multi_nli\")\n",
        "validation_matched = dataset[\"validation_matched\"]\n",
        "\n",
        "# Load the perturbed dataset\n",
        "with open('/content/drive/MyDrive/scriptie/multi_nli_perturbations_matched.json', 'r') as f:\n",
        "    perturbed_validation_matched = json.load(f)\n"
      ]
    },
    {
      "cell_type": "markdown",
      "source": [
        "# functions"
      ],
      "metadata": {
        "id": "olwkRbIqIU7g"
      }
    },
    {
      "cell_type": "code",
      "execution_count": 11,
      "metadata": {
        "id": "Q5ctFKemdiPU"
      },
      "outputs": [],
      "source": [
        "def save_pred(folder_path, file_name, predictions):\n",
        "    # Save predictions to a JSON file\n",
        "    with open(os.path.join(folder_path, file_name), 'w') as f:\n",
        "        json.dump(predictions, f)"
      ]
    },
    {
      "cell_type": "code",
      "execution_count": 12,
      "metadata": {
        "id": "aMwoNIsQfEvL"
      },
      "outputs": [],
      "source": [
        "def load_pred(folder_path, file_name):\n",
        "    # Load predictions from a JSON file\n",
        "    with open(os.path.join(folder_path, file_name), 'r') as f:\n",
        "        loaded_predictions = json.load(f)\n",
        "    return loaded_predictions"
      ]
    },
    {
      "cell_type": "markdown",
      "source": [
        "# Check dataset"
      ],
      "metadata": {
        "id": "7nS9EduHJ0MS"
      }
    },
    {
      "cell_type": "markdown",
      "source": [
        "### functions"
      ],
      "metadata": {
        "id": "strTUTdPJ8nw"
      }
    },
    {
      "cell_type": "code",
      "source": [
        "def sanity_ceck(original, perturbed):\n",
        "    o_len = len(original.split())\n",
        "    p_len = len(perturbed.split())\n",
        "\n",
        "    # change this ratio\n",
        "    if abs(o_len - p_len) / max(o_len, p_len) > 0.2:\n",
        "        return False\n",
        "    else:\n",
        "        return True\n"
      ],
      "metadata": {
        "id": "qHG2CL1KFTBE"
      },
      "execution_count": null,
      "outputs": []
    },
    {
      "cell_type": "code",
      "source": [
        "def grammaticality_check(sentence):\n",
        "    inputs = tokenizer.encode_plus(sentence, return_tensors=\"pt\").to(device)\n",
        "    outputs = model(**inputs)\n",
        "    predictions = torch.nn.functional.softmax(outputs.logits, dim=-1)\n",
        "    # return predictions[0][0].item() > 0.8\n",
        "    return predictions[0][0].item()\n"
      ],
      "metadata": {
        "id": "fgVtqP7MLeYR"
      },
      "execution_count": null,
      "outputs": []
    },
    {
      "cell_type": "code",
      "source": [
        "def get_best_perturbations(data):\n",
        "    best_data = []\n",
        "\n",
        "    for sample in data:\n",
        "        original_premise = sample['original_premise']\n",
        "        perturbed_premises = sample['perturbed_premise']  # could be a string or a multiline string\n",
        "        original_hypothesis = sample['original_hypothesis']\n",
        "        perturbed_hypotheses = sample['perturbed_hypothesis']  # could be a string or a multiline string\n",
        "\n",
        "        # Convert multiline strings to list\n",
        "        if '\\n' in perturbed_premises:\n",
        "            perturbed_premises = perturbed_premises.split('\\n')\n",
        "        if '\\n' in perturbed_hypotheses:\n",
        "            perturbed_hypotheses = perturbed_hypotheses.split('\\n')\n",
        "\n",
        "        # best_premise_score remains -1 if none passes test\n",
        "        best_premise_score = -1\n",
        "        best_premise = perturbed_premises[0] if isinstance(perturbed_premises, list) else perturbed_premises\n",
        "        for perturbed_premise in perturbed_premises if isinstance(perturbed_premises, list) else [perturbed_premises]:\n",
        "            if sanity_ceck(original_premise, perturbed_premise):\n",
        "                score = grammaticality_check(perturbed_premise)\n",
        "                if score > best_premise_score:\n",
        "                    best_premise = perturbed_premise\n",
        "                    best_premise_score = score\n",
        "\n",
        "        # best_hypothesis_score remains -1 if none passes test\n",
        "        best_hypothesis_score = -1\n",
        "        best_hypothesis = perturbed_hypotheses[0] if isinstance(perturbed_hypotheses, list) else perturbed_hypotheses\n",
        "        for perturbed_hypothesis in perturbed_hypotheses if isinstance(perturbed_hypotheses, list) else [perturbed_hypotheses]:\n",
        "            if sanity_ceck(original_hypothesis, perturbed_hypothesis):\n",
        "                score = grammaticality_check(perturbed_hypothesis)\n",
        "                if score > best_hypothesis_score:\n",
        "                    best_hypothesis = perturbed_hypothesis\n",
        "                    best_hypothesis_score = score\n",
        "\n",
        "        best_data.append({\n",
        "            'original_premise': original_premise,\n",
        "            'perturbed_premise': best_premise,\n",
        "            'original_hypothesis': original_hypothesis,\n",
        "            'perturbed_hypothesis': best_hypothesis,\n",
        "            'original_label': sample['original_label'],\n",
        "            'premise_score': best_premise_score,\n",
        "            'hypothesis_score': best_hypothesis_score\n",
        "        })\n",
        "\n",
        "    return best_data\n"
      ],
      "metadata": {
        "id": "0tSTdDFQdLIz"
      },
      "execution_count": null,
      "outputs": []
    },
    {
      "cell_type": "code",
      "source": [
        "def manual_inspection(data, num_samples):\n",
        "    random_samples = random.sample(data, num_samples)\n",
        "    for i, sample in enumerate(random_samples):\n",
        "        print(f\"Sample {i+1}:\")\n",
        "        print(f\"Original premise: {sample['original_premise']}\")\n",
        "        print(f\"Perturbed premise: {sample['perturbed_premise']}\")\n",
        "        print(f\"Original hypothesis: {sample['original_hypothesis']}\")\n",
        "        print(f\"Perturbed hypothesis: {sample['perturbed_hypothesis']}\")\n",
        "        print(f\"Best premise score: {sample['premise_score']}\")\n",
        "        print(f\"Best hypothesis score: {sample['hypothesis_score']}\")\n",
        "        print()\n",
        "\n",
        "# manual_inspection(data, 10)  # Inspect 10 random samples\n"
      ],
      "metadata": {
        "id": "GHu7qLxGmNiT"
      },
      "execution_count": null,
      "outputs": []
    },
    {
      "cell_type": "code",
      "source": [
        "def filter_best_data(best_data):\n",
        "    filtered_data = [sample for sample in best_data\n",
        "                     if sample['premise_score'] > 0.8\n",
        "                     and sample['hypothesis_score'] > 0.8]\n",
        "    return filtered_data\n"
      ],
      "metadata": {
        "id": "bxlbwjQZfO1z"
      },
      "execution_count": null,
      "outputs": []
    },
    {
      "cell_type": "markdown",
      "source": [
        "### check dataset code"
      ],
      "metadata": {
        "id": "8l8H0zWOKYi8"
      }
    },
    {
      "cell_type": "code",
      "execution_count": null,
      "metadata": {
        "colab": {
          "base_uri": "https://localhost:8080/",
          "height": 241,
          "referenced_widgets": [
            "21a5890dde1b4e4e94a9903eb3dd5dda",
            "bfaaa845897e4f7aaf561b3da37b6f84",
            "e448980dbb6f4299bcc7b37757ec1050",
            "40f7940b805f4dcbad80dd01ca7d916d",
            "d1986070ade843b5989ec749161919c4",
            "546bed9da51a4f8a878e8b973d8b9746",
            "41182c831bd243bda760dc8f8d8fe726",
            "c8ef2ccb84e74dc0ab9544a5fecbc067",
            "4e89d513003f4e06864528f05493c15b",
            "6ab7350d15f2477596b264bc4eab0701",
            "2b78473dfa794abb8b70fb3f489d4682",
            "06dc8a59e5de4e80bf3a9c7bea05d49c",
            "d7d1f369b1434946aa54e5f7858830ee",
            "90bec6fa01c840c791dab1c45ad5db5a",
            "1a8f538ae40f45ae9201456d01632335",
            "784dc2f64e864552aea6986ae508018b",
            "5d14d8c4457043ada8f264d35a7b1197",
            "3868d105c7ad451a868d01c28c927745",
            "2d3155ea027e4caebe807fbb91fb2b03",
            "ced0c5e5a3dd47fc897cfa4020327c20",
            "36ee9fa4e25f40888e27d4eb1ecf53ec",
            "c555c425340e46e2948af3a854e15901",
            "3ffb4c4664b14999bc2e6194375b8e99",
            "8ff94c82e50648e4867fb7ed15a74af2",
            "1cdf8fd33a604824a390d10730a46620",
            "fcc388bc6ceb433aa3a284aeaaa4e031",
            "35627be92d9c4c0087748e23cd360855",
            "47ab6665e70c49949f3ff1cbbc7d4036",
            "111d4bf760d04ecd89e6e887dac79fb2",
            "ccff370ab3c04994829bc3de14290077",
            "ba208b5f787645fda29aa88479e9d649",
            "cfdb9667ad484a29bc15ca38c570ffa0",
            "d9a51185f1b4459daad21f75f452a01c",
            "04371b10d643454490dd962f5302958b",
            "d49331740d6d4082b043406232966ea1",
            "cb965f4c29c84df69687b3f414d78993",
            "8e076ed121c044c18aef791e6e61e808",
            "27137525b4a147c5a51bd7b78e5bd5f5",
            "f128e3f51fe848f9910c084d6f974765",
            "f7c95fac1b904c319e7cd9e854dfcc3c",
            "4bae9e61328b4e75931f1810dbfcef39",
            "506bb7df2dfb4aae9186cb068e29adef",
            "8848b5e9cc6841acadd1bf7971de9c84",
            "6cd4fbc7607f4c88a0c239e4ff52a357",
            "2dc88a3204d841cba1581f868fd85f96",
            "1d6f77e50acd416ba0d01fd9ea99903e",
            "4759144abb094e60a24a977b895d6a8a",
            "2b59e1b346504642a17f3156b977d6cb",
            "3f1211aadefe4e3aae74cd74cc2cabc3",
            "5fdefcc2339b442180b683390f463123",
            "d252333788ae4ca7abd2c7a4128ec176",
            "a94558298d6f47e2b0b30aeec2f46817",
            "3922d213acc1479385dd8057a962d7de",
            "b4a7b29cfc0a4e7ead0b6067a2d2dfd0",
            "9b660f702e644297ab77d39f886b3b0a",
            "3af21f2c76804f0cad2abf206a40dfe5",
            "08e7aeab484e40caa8d0321ec825fea1",
            "716b78ac6df44ac68635404e3ea8b166",
            "e57296c161a64aa898293a9d417078ed",
            "942d1ceef04e4f8e84669c07b44fba75",
            "33dc2a33e98d4f7698b5921ca79373b8",
            "756ffe5dc7c6425da7ed72cb044eb2fa",
            "418e2b915ede49fca61038cb245048c5",
            "fc557a0f9ac14b9a872f5b6ca078bd50",
            "fc7d521d4683422e82c86e4858585bb8",
            "b7ed605abb9647e486723851b4ccaa84",
            "78d9331d842a4423939860b8740fc701",
            "2026af535df94763872504f316ca06ed",
            "39abbda9d4874db3920d6c0ac5920491",
            "c530b19ce6444f27bffb5547c1424872",
            "c1c01b88a9b84b54adc7d6468ec518cc",
            "0f41133be3af4f47a0ebb4c1d9ccf4ac",
            "00ea27db88a24d35874460eeae3d0338",
            "e4596eb6140b4a488528c02946cdfbb1",
            "5ca89fdebc5e456dabcdb9a17ef8a14d",
            "85dff9c2fa5c411cbfa82f2453210f08",
            "6bebc4e1f93b4e2d8be518ce34cc5c2c"
          ]
        },
        "id": "fvLKGaqKWvB8",
        "outputId": "da315075-fe6c-45ab-ad29-0b363f025c9e"
      },
      "outputs": [
        {
          "output_type": "display_data",
          "data": {
            "text/plain": [
              "Downloading (…)okenizer_config.json:   0%|          | 0.00/289 [00:00<?, ?B/s]"
            ],
            "application/vnd.jupyter.widget-view+json": {
              "version_major": 2,
              "version_minor": 0,
              "model_id": "21a5890dde1b4e4e94a9903eb3dd5dda"
            }
          },
          "metadata": {}
        },
        {
          "output_type": "display_data",
          "data": {
            "text/plain": [
              "Downloading (…)lve/main/config.json:   0%|          | 0.00/628 [00:00<?, ?B/s]"
            ],
            "application/vnd.jupyter.widget-view+json": {
              "version_major": 2,
              "version_minor": 0,
              "model_id": "06dc8a59e5de4e80bf3a9c7bea05d49c"
            }
          },
          "metadata": {}
        },
        {
          "output_type": "display_data",
          "data": {
            "text/plain": [
              "Downloading (…)olve/main/vocab.json:   0%|          | 0.00/798k [00:00<?, ?B/s]"
            ],
            "application/vnd.jupyter.widget-view+json": {
              "version_major": 2,
              "version_minor": 0,
              "model_id": "3ffb4c4664b14999bc2e6194375b8e99"
            }
          },
          "metadata": {}
        },
        {
          "output_type": "display_data",
          "data": {
            "text/plain": [
              "Downloading (…)olve/main/merges.txt:   0%|          | 0.00/456k [00:00<?, ?B/s]"
            ],
            "application/vnd.jupyter.widget-view+json": {
              "version_major": 2,
              "version_minor": 0,
              "model_id": "04371b10d643454490dd962f5302958b"
            }
          },
          "metadata": {}
        },
        {
          "output_type": "display_data",
          "data": {
            "text/plain": [
              "Downloading (…)/main/tokenizer.json:   0%|          | 0.00/1.36M [00:00<?, ?B/s]"
            ],
            "application/vnd.jupyter.widget-view+json": {
              "version_major": 2,
              "version_minor": 0,
              "model_id": "2dc88a3204d841cba1581f868fd85f96"
            }
          },
          "metadata": {}
        },
        {
          "output_type": "display_data",
          "data": {
            "text/plain": [
              "Downloading (…)cial_tokens_map.json:   0%|          | 0.00/239 [00:00<?, ?B/s]"
            ],
            "application/vnd.jupyter.widget-view+json": {
              "version_major": 2,
              "version_minor": 0,
              "model_id": "3af21f2c76804f0cad2abf206a40dfe5"
            }
          },
          "metadata": {}
        },
        {
          "output_type": "display_data",
          "data": {
            "text/plain": [
              "Downloading pytorch_model.bin:   0%|          | 0.00/1.42G [00:00<?, ?B/s]"
            ],
            "application/vnd.jupyter.widget-view+json": {
              "version_major": 2,
              "version_minor": 0,
              "model_id": "78d9331d842a4423939860b8740fc701"
            }
          },
          "metadata": {}
        }
      ],
      "source": [
        "    # Load the model and the tokenizer\n",
        "    tokenizer = AutoTokenizer.from_pretrained(\"cointegrated/roberta-large-cola-krishna2020\")\n",
        "\n",
        "    model = AutoModelForSequenceClassification.from_pretrained(\"cointegrated/roberta-large-cola-krishna2020\")\n",
        "\n",
        "    device = torch.device(\"cuda\" if torch.cuda.is_available() else \"cpu\")  # if GPU is available, use it\n",
        "    model = model.to(device)"
      ]
    },
    {
      "cell_type": "code",
      "source": [
        "fixed_data_variables = get_best_perturbations(perturbed_validation_matched)"
      ],
      "metadata": {
        "id": "hx6AqXISfIPu"
      },
      "execution_count": null,
      "outputs": []
    },
    {
      "cell_type": "code",
      "source": [
        "filtered_data = filter_best_data(fixed_data_variables)"
      ],
      "metadata": {
        "id": "WfXlpcXvgqWi"
      },
      "execution_count": null,
      "outputs": []
    },
    {
      "cell_type": "code",
      "source": [
        "len(filtered_data)"
      ],
      "metadata": {
        "colab": {
          "base_uri": "https://localhost:8080/"
        },
        "id": "LJuG1sSOgvpz",
        "outputId": "18ef9826-493c-4f87-c1e0-b588457ad53d"
      },
      "execution_count": null,
      "outputs": [
        {
          "output_type": "execute_result",
          "data": {
            "text/plain": [
              "3478"
            ]
          },
          "metadata": {},
          "execution_count": 24
        }
      ]
    },
    {
      "cell_type": "code",
      "source": [
        "save_pred(folder_path, \"checked_data_complete.json\", fixed_data_variables)\n",
        "save_pred(folder_path, \"filtered_data.json\", filtered_data)"
      ],
      "metadata": {
        "id": "9vDUO8OEntsi"
      },
      "execution_count": null,
      "outputs": []
    },
    {
      "cell_type": "markdown",
      "source": [
        "### filter dataset"
      ],
      "metadata": {
        "id": "zYRZQS3HMakL"
      }
    },
    {
      "cell_type": "code",
      "source": [
        "f_data = load_pred(folder_path, \"checked_data_complete.json\")"
      ],
      "metadata": {
        "id": "S39N3UHmMfYd"
      },
      "execution_count": null,
      "outputs": []
    },
    {
      "cell_type": "code",
      "source": [
        "filtered_data = filter_best_data(f_data)"
      ],
      "metadata": {
        "id": "9Avwj9d2Mb0r"
      },
      "execution_count": null,
      "outputs": []
    },
    {
      "cell_type": "code",
      "source": [
        "len(filtered_data)"
      ],
      "metadata": {
        "colab": {
          "base_uri": "https://localhost:8080/"
        },
        "id": "Q6MzreDrMnKk",
        "outputId": "e87777b3-66f2-4c4e-90a0-018c1aa6a023"
      },
      "execution_count": null,
      "outputs": [
        {
          "output_type": "execute_result",
          "data": {
            "text/plain": [
              "3478"
            ]
          },
          "metadata": {},
          "execution_count": 20
        }
      ]
    },
    {
      "cell_type": "markdown",
      "source": [
        "load manually annotated dataset"
      ],
      "metadata": {
        "id": "jtSWeMdJMmr5"
      }
    },
    {
      "cell_type": "code",
      "source": [
        "# load manually annotated dataset, this is first 350 of 'filtered_data.json\n",
        "filtered_data_annotated = load_pred(folder_path, \"filtered_data_annotate_final.json\")"
      ],
      "metadata": {
        "id": "W5TSCoxYLs1y"
      },
      "execution_count": 13,
      "outputs": []
    },
    {
      "cell_type": "code",
      "source": [
        "len(filtered_data_annotated)"
      ],
      "metadata": {
        "colab": {
          "base_uri": "https://localhost:8080/"
        },
        "id": "ErfLGj0tSDG5",
        "outputId": "4f8b29d8-1cf8-4d7a-a518-5e5bfeba19e1"
      },
      "execution_count": 14,
      "outputs": [
        {
          "output_type": "execute_result",
          "data": {
            "text/plain": [
              "350"
            ]
          },
          "metadata": {},
          "execution_count": 14
        }
      ]
    },
    {
      "cell_type": "markdown",
      "source": [
        "### inspection dataset"
      ],
      "metadata": {
        "id": "ya1ONeEMMQpw"
      }
    },
    {
      "cell_type": "code",
      "source": [
        "# Extract original and user annotated labels\n",
        "original_labels = [item['original_label'] for item in filtered_data_annotated]\n",
        "user_labels = [item['user_label'] for item in filtered_data_annotated]\n",
        "\n",
        "# Compute counts for original and user annotated labels\n",
        "original_label_counts = Counter(original_labels)\n",
        "user_label_counts = Counter(user_labels)\n",
        "\n",
        "# Compute proportions\n",
        "original_label_proportions = {label: count/len(original_labels) for label, count in original_label_counts.items()}\n",
        "user_label_proportions = {label: count/len(user_labels) for label, count in user_label_counts.items()}\n",
        "\n",
        "# Print original and user annotated label proportions\n",
        "print(\"Original Label Proportions:\")\n",
        "for label, proportion in original_label_proportions.items():\n",
        "    print(f\"Label {label}: {proportion*100:.2f}%\")\n",
        "\n",
        "print(\"\\nUser Annotated Label Proportions:\")\n",
        "for label, proportion in user_label_proportions.items():\n",
        "    print(f\"Label {label}: {proportion*100:.2f}%\")\n",
        "\n",
        "# Compute how many labels remained the same\n",
        "same_labels = sum([original == user for original, user in zip(original_labels, user_labels)])\n",
        "same_label_proportion = same_labels / len(original_labels)\n",
        "print(f\"\\nProportion of labels that stayed the same: {same_label_proportion*100:.2f}%\")\n"
      ],
      "metadata": {
        "colab": {
          "base_uri": "https://localhost:8080/"
        },
        "id": "_ZqgjrHrzUg2",
        "outputId": "e1996484-44bb-4181-9ded-8e95748ac759"
      },
      "execution_count": null,
      "outputs": [
        {
          "output_type": "stream",
          "name": "stdout",
          "text": [
            "Original Label Proportions:\n",
            "Label 0: 33.43%\n",
            "Label 2: 33.71%\n",
            "Label 1: 32.86%\n",
            "\n",
            "User Annotated Label Proportions:\n",
            "Label 1: 58.00%\n",
            "Label 2: 24.86%\n",
            "Label 0: 17.14%\n",
            "\n",
            "Proportion of labels that stayed the same: 69.71%\n"
          ]
        }
      ]
    },
    {
      "cell_type": "code",
      "source": [
        "# Initialize a dictionary to store changes\n",
        "label_changes = defaultdict(int)\n",
        "\n",
        "# Iterate over the dataset and count label changes\n",
        "for original, user in zip(original_labels, user_labels):\n",
        "    if original != user:\n",
        "        label_changes[(original, user)] += 1\n",
        "\n",
        "# Calculate total changes\n",
        "total_changes = sum(label_changes.values())\n",
        "\n",
        "# Print change counts and proportions\n",
        "print(\"Label Change Counts and Proportions:\")\n",
        "for change, count in label_changes.items():\n",
        "    original, user = change\n",
        "    proportion = count / total_changes\n",
        "    print(f\"Change from {original} to {user}: Count = {count}, Proportion = {proportion*100:.2f}%\")"
      ],
      "metadata": {
        "colab": {
          "base_uri": "https://localhost:8080/"
        },
        "id": "FUZyURtX4UDI",
        "outputId": "2bcbd8b2-b07f-486d-e3ec-b0a586ad2fb6"
      },
      "execution_count": null,
      "outputs": [
        {
          "output_type": "stream",
          "name": "stdout",
          "text": [
            "Label Change Counts and Proportions:\n",
            "Change from 0 to 1: Count = 52, Proportion = 49.06%\n",
            "Change from 2 to 1: Count = 39, Proportion = 36.79%\n",
            "Change from 2 to 0: Count = 3, Proportion = 2.83%\n",
            "Change from 0 to 2: Count = 9, Proportion = 8.49%\n",
            "Change from 1 to 0: Count = 1, Proportion = 0.94%\n",
            "Change from 1 to 2: Count = 2, Proportion = 1.89%\n"
          ]
        }
      ]
    },
    {
      "cell_type": "code",
      "source": [
        "manual_inspection(filtered_data, 10)"
      ],
      "metadata": {
        "colab": {
          "base_uri": "https://localhost:8080/"
        },
        "id": "g2IkfKH0l1Vo",
        "outputId": "d7d5dfe5-351c-4865-8235-1e398ce1cd47"
      },
      "execution_count": null,
      "outputs": [
        {
          "output_type": "stream",
          "name": "stdout",
          "text": [
            "Sample 1:\n",
            "Original premise: But to you, who know the truth, I propose to read certain passages which will throw some light on the extraordinary mentality of this great man.\" He opened the book, and turned the thin pages.\n",
            "Perturbed premise: He proposed to open the book and read certain passages which will throw some light on the extraordinary mentality of this great man, but only to those who know the truth. Turning the thin pages, he began to read.\n",
            "Original hypothesis: There is no information on the mentality of the man, extraordinary or not, contained within the thin-paged book. \n",
            "Perturbed hypothesis: Contained within the thin-paged book is extraordinary information on the mentality of the man, whether or not it is there.\n",
            "Best premise score: 0.9833089709281921\n",
            "Best hypothesis score: 0.9593909978866577\n",
            "\n",
            "Sample 2:\n",
            "Original premise: I saw that a faint streak of daylight was showing through the curtains of the windows, and that the clock on the mantelpiece pointed to close upon five o'clock. \n",
            "Perturbed premise: Close upon the curtains of the windows, I saw that a faint streak of daylight was showing, and that the clock on the mantelpiece pointed to five o'clock.\n",
            "Original hypothesis: I saw that it was already morning, and the sun was coming up.\n",
            "Perturbed hypothesis: The sun was already up and I saw that morning was coming.\n",
            "Best premise score: 0.8614332675933838\n",
            "Best hypothesis score: 0.9110939502716064\n",
            "\n",
            "Sample 3:\n",
            "Original premise: we were talking . Try to behave\n",
            "Perturbed premise: 'Try to behave while we were talking.'\n",
            "Original hypothesis: We are having an argument, come at me if you dare!\n",
            "Perturbed hypothesis: 'Come at me, we dare you! Having an argument are we?'\n",
            "Best premise score: 0.9819768667221069\n",
            "Best hypothesis score: 0.9570206999778748\n",
            "\n",
            "Sample 4:\n",
            "Original premise: But in fact Haveman and Wolfe's statistical analysis is designed to rule out this and similar alternative theories, leaving us to conclude that the moves themselves are harmful.\n",
            "Perturbed premise: Haveman and Wolfe's statistical analysis, in fact, is harmful, ruling out alternative theories and leaving us to conclude that the moves are designed to be this way.\n",
            "Original hypothesis: We think these moves are benevolent.\n",
            "Perturbed hypothesis: These moves, we think, are malevolent.\n",
            "Best premise score: 0.9683287739753723\n",
            "Best hypothesis score: 0.967162549495697\n",
            "\n",
            "Sample 5:\n",
            "Original premise: wow who can afford that  my God i can't afford to miss a day let alone six\n",
            "Perturbed premise: \"I can't afford that. Wow, let alone missing six days, I can't even afford to miss a day, my God!\"\n",
            "Original hypothesis: Who can afford to miss a day?\n",
            "Perturbed hypothesis: 3. Who can afford a day to miss?\n",
            "Best premise score: 0.9586518406867981\n",
            "Best hypothesis score: 0.9929721355438232\n",
            "\n",
            "Sample 6:\n",
            "Original premise: She has believed that the sleeping draught she administered was perfectly harmless, but there is no doubt that for one terrible moment she must have feared that Mrs. Inglethorp's death lay at her door. \n",
            "Perturbed premise: For one terrible moment, she believed that Mrs. Inglethorp's death was perfectly harmless, but there is no doubt that the sleeping draught she administered lay at her door.\n",
            "Original hypothesis: She had no doubt that Mrs. Inglethorp's death was not a concern.\n",
            "Perturbed hypothesis: Mrs. Inglethorp's death was not a concern, she had no doubt.\n",
            "Best premise score: 0.9793493151664734\n",
            "Best hypothesis score: 0.9571307897567749\n",
            "\n",
            "Sample 7:\n",
            "Original premise: 1 Lower and upper PMSD bounds were determined from the 10th and 90th percentile, respectively, of PMSD data from EPA's WET Interlaboratory Variability Study (USEPA, 2001a; USEPA, 2001b).\n",
            "Perturbed premise: From the 10th and 90th percentile of PMSD data from EPA's WET Interlaboratory Variability Study, the upper and lower PMSD bounds were determined respectively, according to USEPA, 2001a and USEPA, 2001b.\n",
            "Original hypothesis: The EPA's WET Interlaboratory Variability Study served as the reference for the upper and lower PMSD numbers.\n",
            "Perturbed hypothesis: The upper and lower PMSD numbers served as the reference for the EPA's WET Interlaboratory Variability Study.\n",
            "Best premise score: 0.9876541495323181\n",
            "Best hypothesis score: 0.9935237169265747\n",
            "\n",
            "Sample 8:\n",
            "Original premise: Outside, set in manicured gardens, are the remains of the Abbey of Holyrood.\n",
            "Perturbed premise: The remains of Holyrood Abbey are set in manicured gardens outside.\n",
            "Original hypothesis: The gardens containing the remains of the Abbey of Holyrood are in disarray and not well-kept.\n",
            "Perturbed hypothesis: The remains of the Abbey of Holyrood in the gardens are well-kept and not in disarray.\n",
            "Best premise score: 0.9900580048561096\n",
            "Best hypothesis score: 0.9862247705459595\n",
            "\n",
            "Sample 9:\n",
            "Original premise: The most recent attraction at the pyramid complex is a small museum housing the remains of a solar barque (a cedar longboat) which was found in 1954.\n",
            "Perturbed premise: In 1954, a small museum housing the remains of a solar barque (a cedar longboat) was found at the pyramid complex, making it the most recent attraction.\n",
            "Original hypothesis: The huge museum houses over 100 longboats which were discovered in 1888.\n",
            "Perturbed hypothesis: In 1888, over 100 longboats were discovered in the huge museum that houses them.\n",
            "Best premise score: 0.989324152469635\n",
            "Best hypothesis score: 0.9951120018959045\n",
            "\n",
            "Sample 10:\n",
            "Original premise: Pesticide concentrations should not exceed USEPA's Ambient Water Quality chronic criteria values where available.\n",
            "Perturbed premise: 'Chronic water quality values, where available, should not surpass pesticide concentrations set by USEPA's ambient criteria.'\n",
            "Original hypothesis: Locations available include freshwater and saltwater locations.\n",
            "Perturbed hypothesis: Freshwater and saltwater locations include available locations.\n",
            "Best premise score: 0.9922450184822083\n",
            "Best hypothesis score: 0.8335274457931519\n",
            "\n"
          ]
        }
      ]
    },
    {
      "cell_type": "markdown",
      "source": [
        "# Generate models"
      ],
      "metadata": {
        "id": "q468ES1KL9_N"
      }
    },
    {
      "cell_type": "markdown",
      "source": [
        "## functions"
      ],
      "metadata": {
        "id": "1Q0nfxKBMDz-"
      }
    },
    {
      "cell_type": "code",
      "source": [
        "def get_predictions(model_name, dataset, perturbed):\n",
        "    # Load the model and the tokenizer\n",
        "    tokenizer = AutoTokenizer.from_pretrained(model_name)\n",
        "\n",
        "    model = AutoModelForSequenceClassification.from_pretrained(model_name)\n",
        "\n",
        "    device = torch.device(\"cuda\" if torch.cuda.is_available() else \"cpu\")  # if GPU is available, use it\n",
        "    model = model.to(device)\n",
        "\n",
        "    # Process each example in dataset\n",
        "    predictions, true_labels = [], []\n",
        "    # model returns 0 for contradiction and 2 for entailment, swap to avoid discrepency\n",
        "    label_mapping = {0: 2, 1: 1, 2: 0}\n",
        "    for example in dataset:\n",
        "        if perturbed:\n",
        "          premise = example[\"perturbed_premise\"]\n",
        "          hypothesis = example[\"perturbed_hypothesis\"]\n",
        "        else:\n",
        "          premise = example[\"original_premise\"]\n",
        "          hypothesis = example[\"original_hypothesis\"]\n",
        "\n",
        "        # Encode the premise and the hypothesis\n",
        "        inputs = tokenizer.encode_plus(premise, hypothesis, return_tensors='pt').to(device)\n",
        "\n",
        "        # Get the model's prediction\n",
        "        outputs = model(**inputs)\n",
        "        prediction = torch.argmax(outputs.logits, dim=-1).item()\n",
        "\n",
        "        # Store the prediction\n",
        "        predictions.append(label_mapping[prediction])\n",
        "\n",
        "    return predictions"
      ],
      "metadata": {
        "id": "Sr8b_5v36WyV"
      },
      "execution_count": null,
      "outputs": []
    },
    {
      "cell_type": "code",
      "source": [
        "def get_predictions_and_probabilities(model_name, dataset, perturbed):\n",
        "    # Load the model and the tokenizer\n",
        "    tokenizer = AutoTokenizer.from_pretrained(model_name)\n",
        "\n",
        "    model = AutoModelForSequenceClassification.from_pretrained(model_name)\n",
        "\n",
        "    device = torch.device(\"cuda\" if torch.cuda.is_available() else \"cpu\")  # if GPU is available, use it\n",
        "    model = model.to(device)\n",
        "\n",
        "    # Process each example in dataset\n",
        "    predictions, true_labels, probabilities = [], [], []\n",
        "    # model returns 0 for contradiction and 2 for entailment, swap to avoid discrepency\n",
        "    label_mapping = {0: 2, 1: 1, 2: 0}\n",
        "    for example in dataset:\n",
        "        if perturbed:\n",
        "          premise = example[\"perturbed_premise\"]\n",
        "          hypothesis = example[\"perturbed_hypothesis\"]\n",
        "        else:\n",
        "          premise = example[\"original_premise\"]\n",
        "          hypothesis = example[\"original_hypothesis\"]\n",
        "\n",
        "        # Encode the premise and the hypothesis\n",
        "        inputs = tokenizer.encode_plus(premise, hypothesis, return_tensors='pt').to(device)\n",
        "\n",
        "        # Get the model's prediction\n",
        "        outputs = model(**inputs)\n",
        "        prediction = torch.argmax(outputs.logits, dim=-1).item()\n",
        "\n",
        "        # Apply softmax to get probabilities\n",
        "        probabilities.append(torch.nn.functional.softmax(outputs.logits, dim=-1).tolist())\n",
        "\n",
        "        # Store the prediction\n",
        "        predictions.append(label_mapping[prediction])\n",
        "\n",
        "    return predictions, probabilities\n"
      ],
      "metadata": {
        "id": "7lDFS-2k0Oy3"
      },
      "execution_count": null,
      "outputs": []
    },
    {
      "cell_type": "markdown",
      "source": [
        "## generate and save predictions"
      ],
      "metadata": {
        "id": "AjXz9cp3LEv2"
      }
    },
    {
      "cell_type": "markdown",
      "source": [
        "### roberta"
      ],
      "metadata": {
        "id": "yhpJ2kccLKfW"
      }
    },
    {
      "cell_type": "code",
      "source": [
        "filtered_predictions_orig, filtered_probabilities_orig = get_predictions_and_probabilities(\"roberta-large-mnli\", filtered_data, False)\n",
        "save_pred(folder_path, \"filtered_predictions_orig_roberta.json\", filtered_predictions_orig)\n",
        "save_pred(folder_path, \"filtered_probabilities_orig_roberta.json\", filtered_probabilities_orig)\n",
        "\n",
        "\n",
        "filtered_predictions_perturbed, filtered_probabilities_perturbed = get_predictions_and_probabilities(\"roberta-large-mnli\", filtered_data, True)\n",
        "save_pred(folder_path, \"filtered_predictions_perturbed_roberta.json\", filtered_predictions_perturbed)\n",
        "save_pred(folder_path, \"filtered_probabilities_perturbed_roberta.json\", filtered_probabilities_perturbed)\n",
        "\n",
        "pred_annotated_orig = get_predictions(\"roberta-large-mnli\", filtered_data_annotated, False)\n",
        "save_pred(folder_path, \"pred_annotated_orig_roberta.json\", pred_annotated_orig)\n",
        "\n",
        "pred_annotated_perturbed = get_predictions(\"roberta-large-mnli\", filtered_data_annotated, True)\n",
        "save_pred(folder_path, \"pred_annotated_perturbed_roberta.json\", pred_annotated_perturbed)"
      ],
      "metadata": {
        "colab": {
          "base_uri": "https://localhost:8080/",
          "height": 405,
          "referenced_widgets": [
            "cd4161a41de4433f8cdfeb588eb81f54",
            "502e0135882940cd97cd3440c4820163",
            "459f4b19a8a54d4dbd87408777d953e0",
            "8b0174e80bba44dba0049371d6588a78",
            "98928ad031214ec093ba9749ed30bfab",
            "e5cd9b4367584b22a5118069e86a0753",
            "2f5a19976dff4c5eb8c9438b20f193f8",
            "8f83aeecfdce49e581a14963d6e0afeb",
            "2e7ffd4d53874dc49fd129b6ee539e05",
            "59b315724e1c4adcb5a74a0ef4428285",
            "d71ee39ee2ce4d15826e95db1ad5e09c",
            "3ed227e5e9434433bf6ef15e68ab7ba2",
            "369d9899d13f47049c3f64292edd36cb",
            "63592fa83e4b48fd9f8d90b37bc98f3a",
            "a23e1df33ab54fae9b7cc45fb7e8cac0",
            "b8baf334db5443f28960cc88ed65f620",
            "f8ba06ea30d347c5898050fd884ab461",
            "d71596a761fc4c32b24e60bc08c758f2",
            "4bc2d8652ef4442b985bd61f81ae48f8",
            "25806887e5474c01986dc191056ca94f",
            "afb223ed66524edaaa5738455c56d42e",
            "4dfa21098acb46059d840f60e431adbe",
            "bffa46cd71884c54bdbf00558edcaae5",
            "d286473269ab4bf99ff5acfb8e3a67f0",
            "8fe9437bbd114d39b08c09ce0bfef24c",
            "8efefbd7d0574edb9536fd8a8841366c",
            "11b0356d35244f1283eb40ceb7cb426a",
            "3d2afdb345e94ffd97c55da406d2c33e",
            "21355c3172a94323902f194857b58746",
            "8b527446690b4888a06245e8cd57cc5c",
            "64e1d826d1e6401993d923721d782ca3",
            "2453d8e69373486badb642855c07eaee",
            "fb25e42e2b6f40f4b2adb019f34ced8d",
            "0cd7b6bf3ccd47a484ffa3cefd62aa94",
            "7b2cb43c94134ebbbf6d46633721b8ae",
            "10a0849de90b4c659937a3cc07810860",
            "d0e263c0e4f74d9c8a9a49fecf2dc776",
            "d7f3d4fbe4ff45a5b70bab0542a145ee",
            "9477da01797f4e1ab11f0675e4835405",
            "784b78e78b864482802cadac945e240e",
            "1764e74a834047678541921dad399591",
            "cbebabf68eef4bc1b0ecd11b299eeb42",
            "4ef4478f88684784afefdf33ba80d19e",
            "2c2487dbc8a1473d97626a3ff8c7fc7a",
            "414424d7a8624cb1834a87d036b28b3c",
            "5bdde1824d2a4cd9a74d044718b9ea39",
            "bd1efa994a424a6e85c1d81501eb9899",
            "f3238be06e2641f48ec9e8b7673d4a94",
            "7c209b6e2683443c8997bfab4ed5c389",
            "4ded2019b56b4e02840138648beb404d",
            "fd221b7b595043be817a8f24eabcd99e",
            "d03bb2e24e2b49e28d1640f3e57ad622",
            "317e74d248a94dea8a56bf9df2906565",
            "da52f31dd0654cd5a8b64793f3c50e40",
            "af39f6ed0e0d44faa7a9c80556b1d791"
          ]
        },
        "id": "HJozDy-N5VeB",
        "outputId": "e9396e96-a297-471c-deea-d0a8b82e00aa"
      },
      "execution_count": null,
      "outputs": [
        {
          "output_type": "display_data",
          "data": {
            "text/plain": [
              "Downloading (…)lve/main/config.json:   0%|          | 0.00/688 [00:00<?, ?B/s]"
            ],
            "application/vnd.jupyter.widget-view+json": {
              "version_major": 2,
              "version_minor": 0,
              "model_id": "cd4161a41de4433f8cdfeb588eb81f54"
            }
          },
          "metadata": {}
        },
        {
          "output_type": "display_data",
          "data": {
            "text/plain": [
              "Downloading (…)olve/main/vocab.json:   0%|          | 0.00/899k [00:00<?, ?B/s]"
            ],
            "application/vnd.jupyter.widget-view+json": {
              "version_major": 2,
              "version_minor": 0,
              "model_id": "3ed227e5e9434433bf6ef15e68ab7ba2"
            }
          },
          "metadata": {}
        },
        {
          "output_type": "display_data",
          "data": {
            "text/plain": [
              "Downloading (…)olve/main/merges.txt:   0%|          | 0.00/456k [00:00<?, ?B/s]"
            ],
            "application/vnd.jupyter.widget-view+json": {
              "version_major": 2,
              "version_minor": 0,
              "model_id": "bffa46cd71884c54bdbf00558edcaae5"
            }
          },
          "metadata": {}
        },
        {
          "output_type": "display_data",
          "data": {
            "text/plain": [
              "Downloading (…)/main/tokenizer.json:   0%|          | 0.00/1.36M [00:00<?, ?B/s]"
            ],
            "application/vnd.jupyter.widget-view+json": {
              "version_major": 2,
              "version_minor": 0,
              "model_id": "0cd7b6bf3ccd47a484ffa3cefd62aa94"
            }
          },
          "metadata": {}
        },
        {
          "output_type": "display_data",
          "data": {
            "text/plain": [
              "Downloading model.safetensors:   0%|          | 0.00/1.43G [00:00<?, ?B/s]"
            ],
            "application/vnd.jupyter.widget-view+json": {
              "version_major": 2,
              "version_minor": 0,
              "model_id": "414424d7a8624cb1834a87d036b28b3c"
            }
          },
          "metadata": {}
        },
        {
          "output_type": "stream",
          "name": "stderr",
          "text": [
            "Some weights of the model checkpoint at roberta-large-mnli were not used when initializing RobertaForSequenceClassification: ['roberta.pooler.dense.bias', 'roberta.pooler.dense.weight']\n",
            "- This IS expected if you are initializing RobertaForSequenceClassification from the checkpoint of a model trained on another task or with another architecture (e.g. initializing a BertForSequenceClassification model from a BertForPreTraining model).\n",
            "- This IS NOT expected if you are initializing RobertaForSequenceClassification from the checkpoint of a model that you expect to be exactly identical (initializing a BertForSequenceClassification model from a BertForSequenceClassification model).\n",
            "Some weights of the model checkpoint at roberta-large-mnli were not used when initializing RobertaForSequenceClassification: ['roberta.pooler.dense.bias', 'roberta.pooler.dense.weight']\n",
            "- This IS expected if you are initializing RobertaForSequenceClassification from the checkpoint of a model trained on another task or with another architecture (e.g. initializing a BertForSequenceClassification model from a BertForPreTraining model).\n",
            "- This IS NOT expected if you are initializing RobertaForSequenceClassification from the checkpoint of a model that you expect to be exactly identical (initializing a BertForSequenceClassification model from a BertForSequenceClassification model).\n",
            "Some weights of the model checkpoint at roberta-large-mnli were not used when initializing RobertaForSequenceClassification: ['roberta.pooler.dense.bias', 'roberta.pooler.dense.weight']\n",
            "- This IS expected if you are initializing RobertaForSequenceClassification from the checkpoint of a model trained on another task or with another architecture (e.g. initializing a BertForSequenceClassification model from a BertForPreTraining model).\n",
            "- This IS NOT expected if you are initializing RobertaForSequenceClassification from the checkpoint of a model that you expect to be exactly identical (initializing a BertForSequenceClassification model from a BertForSequenceClassification model).\n",
            "Some weights of the model checkpoint at roberta-large-mnli were not used when initializing RobertaForSequenceClassification: ['roberta.pooler.dense.bias', 'roberta.pooler.dense.weight']\n",
            "- This IS expected if you are initializing RobertaForSequenceClassification from the checkpoint of a model trained on another task or with another architecture (e.g. initializing a BertForSequenceClassification model from a BertForPreTraining model).\n",
            "- This IS NOT expected if you are initializing RobertaForSequenceClassification from the checkpoint of a model that you expect to be exactly identical (initializing a BertForSequenceClassification model from a BertForSequenceClassification model).\n"
          ]
        }
      ]
    },
    {
      "cell_type": "markdown",
      "source": [
        "### bart"
      ],
      "metadata": {
        "id": "2rIvaQp_L1oC"
      }
    },
    {
      "cell_type": "code",
      "source": [
        "filtered_predictions_orig, filtered_probabilities_orig = get_predictions_and_probabilities(\"facebook/bart-large-mnli\", filtered_data, False)\n",
        "save_pred(folder_path, \"filtered_predictions_orig_bart.json\", filtered_predictions_orig)\n",
        "save_pred(folder_path, \"filtered_probabilities_orig_bart.json\", filtered_probabilities_orig)\n",
        "\n",
        "filtered_predictions_perturbed, filtered_probabilities_perturbed = get_predictions_and_probabilities(\"facebook/bart-large-mnli\", filtered_data, True)\n",
        "save_pred(folder_path, \"filtered_predictions_perturbed_bart.json\", filtered_predictions_perturbed)\n",
        "save_pred(folder_path, \"filtered_probabilities_perturbed_bart.json\", filtered_probabilities_perturbed)\n",
        "\n",
        "pred_annotated_orig = get_predictions(\"facebook/bart-large-mnli\", filtered_data_annotated, False)\n",
        "save_pred(folder_path, \"pred_annotated_orig_bart.json\", pred_annotated_orig)\n",
        "\n",
        "pred_annotated_perturbed = get_predictions(\"facebook/bart-large-mnli\", filtered_data_annotated, True)\n",
        "save_pred(folder_path, \"pred_annotated_perturbed_bart.json\", pred_annotated_perturbed)"
      ],
      "metadata": {
        "colab": {
          "base_uri": "https://localhost:8080/",
          "height": 209,
          "referenced_widgets": [
            "a9fa8e8acc15460c8e1c5c9309d62c8e",
            "de6037468ec84789a83f28956fc39705",
            "0831e645485a410dafa630243efa805f",
            "5196e567e70d46eba4a002bae6db4654",
            "c6012a7d7d2048b286cfe2f1919db514",
            "6eb7bc5aa9b74cadb232369be9750887",
            "f3e98914524d4ee9bd7c2054313905b8",
            "9e49abc6be1b4b55bb394c067d29aa26",
            "326e2be5e4254fb28bc12f20ab8bd0ba",
            "0b347b90cd9a41e397c54e195531e7bb",
            "1ae85c670cd74a6ca8ffbaa24f644580",
            "984f79ba185b42329408073aa9e43511",
            "2667257a2d414fb0a6b424069e1a3018",
            "dfaa920df4644d9fb177867204c4460b",
            "7988491f69ab4866b3e5396291d8ef1e",
            "eed954706680481e9d9064f84595be4f",
            "95ca55f73eb444169bc81441d05fcfe5",
            "049640b9b6b34f0fb370b94cf628f631",
            "e2f7a92156a84db5b6299aad25576f5e",
            "56b91d88f5d44b029f3590b2b98f4110",
            "97cf7f85f3ef4fa99cd8778eea5c0519",
            "1d00eb8e43c44488affb194ec4ed1b92",
            "03f666ff0c564440aceda89763a9d185",
            "a952814f3ff441b2b1d4b8986b92c119",
            "114fc2cb7db0466baf302af9307d1f1f",
            "599d4d983fac4f53a14f4d64db1e0f9c",
            "c9f0bfbe4db14047bd1c97b17b312525",
            "b1cff268a8fe4a5c88462f414ce7a4db",
            "694b11dd8ee747948a596139b402b42c",
            "bfb6ba6f739f4c8f86ec67e71620c38d",
            "5c8cc8fe69b14a3abbc93e41691eb965",
            "0bbe99d405d04bac852f255cf213b927",
            "3e5d0d7df7e64700811855e732995221",
            "f5d0f42bf0a6436e8106004be03baeee",
            "0f196b5f1f4b4071b295d68b71585408",
            "0b4ce9f884ab4b95bdb50bd2eed84318",
            "cace34dec724417b83c60ce0be36e65e",
            "4f812d3f430f43f789e63ee92abad86e",
            "f191b7bfa1be439da015e55020004afe",
            "48f831144d7341a4ada2ccb2817e847a",
            "a71b11695e1e4bea943f72ce65012d2b",
            "4a79e56265a145a497626ce66c5ba39f",
            "4a56328864204558bc17f77ff06f1c10",
            "6700ad7bb4b24fbbbc03537b64f88a0c",
            "02314df74ea6427990278ead6d764fa6",
            "2f91c791cac347d8b0a5b6c7f280227b",
            "8d2a0623b53f41d484c90ee2ed99d391",
            "e7a39701bc774813b1dde44ffe5dccd5",
            "818eb16679a44760923ee5cef60f4b1d",
            "43ec8c76503840d696f50cc179feb5a0",
            "182a51f8aaad4907b0f596c9d7b18e01",
            "aadecac520ed4c3cae7f4727e1294cca",
            "b2d52b673891475b8fdfe37825127b9e",
            "ad0fd9feb7b140e59024a94791f59de9",
            "a9948b48db4d40c19f273b292cadbf46",
            "354390ab073b4de18537bbd309f56f0d",
            "0494c8d5059a44a69d1f06770831a52a",
            "6ee6cf1cc4864933a453c8844c96c5f4",
            "e1907e24b70d4254a4fecaa5f5acf55f",
            "c6433cd5b79a4eafabd99f1e021dcdcd",
            "a424d72ca33e4ffea66b4c21e1b82d79",
            "68cdf825f7fa4eae8c649447f097d160",
            "09de0ebf214349d78b9c3792406bd749",
            "c47c55f3bf1843d78ae8df3c4263e83a",
            "7483370afaad42d99a7966bcd153e7da",
            "8d58459647e544d39bd064095b8fb3b6"
          ]
        },
        "id": "t-BHA8qpM5FH",
        "outputId": "6d0baed1-4a04-46a4-f200-6cf2e11f43fc"
      },
      "execution_count": null,
      "outputs": [
        {
          "output_type": "display_data",
          "data": {
            "text/plain": [
              "Downloading (…)okenizer_config.json:   0%|          | 0.00/26.0 [00:00<?, ?B/s]"
            ],
            "application/vnd.jupyter.widget-view+json": {
              "version_major": 2,
              "version_minor": 0,
              "model_id": "a9fa8e8acc15460c8e1c5c9309d62c8e"
            }
          },
          "metadata": {}
        },
        {
          "output_type": "display_data",
          "data": {
            "text/plain": [
              "Downloading (…)lve/main/config.json:   0%|          | 0.00/1.15k [00:00<?, ?B/s]"
            ],
            "application/vnd.jupyter.widget-view+json": {
              "version_major": 2,
              "version_minor": 0,
              "model_id": "984f79ba185b42329408073aa9e43511"
            }
          },
          "metadata": {}
        },
        {
          "output_type": "display_data",
          "data": {
            "text/plain": [
              "Downloading (…)olve/main/vocab.json:   0%|          | 0.00/899k [00:00<?, ?B/s]"
            ],
            "application/vnd.jupyter.widget-view+json": {
              "version_major": 2,
              "version_minor": 0,
              "model_id": "03f666ff0c564440aceda89763a9d185"
            }
          },
          "metadata": {}
        },
        {
          "output_type": "display_data",
          "data": {
            "text/plain": [
              "Downloading (…)olve/main/merges.txt:   0%|          | 0.00/456k [00:00<?, ?B/s]"
            ],
            "application/vnd.jupyter.widget-view+json": {
              "version_major": 2,
              "version_minor": 0,
              "model_id": "f5d0f42bf0a6436e8106004be03baeee"
            }
          },
          "metadata": {}
        },
        {
          "output_type": "display_data",
          "data": {
            "text/plain": [
              "Downloading (…)/main/tokenizer.json:   0%|          | 0.00/1.36M [00:00<?, ?B/s]"
            ],
            "application/vnd.jupyter.widget-view+json": {
              "version_major": 2,
              "version_minor": 0,
              "model_id": "02314df74ea6427990278ead6d764fa6"
            }
          },
          "metadata": {}
        },
        {
          "output_type": "display_data",
          "data": {
            "text/plain": [
              "Downloading model.safetensors:   0%|          | 0.00/1.63G [00:00<?, ?B/s]"
            ],
            "application/vnd.jupyter.widget-view+json": {
              "version_major": 2,
              "version_minor": 0,
              "model_id": "354390ab073b4de18537bbd309f56f0d"
            }
          },
          "metadata": {}
        }
      ]
    },
    {
      "cell_type": "markdown",
      "source": [
        "### deberta"
      ],
      "metadata": {
        "id": "2aKu2Cp_L3nt"
      }
    },
    {
      "cell_type": "code",
      "source": [
        "filtered_predictions_orig, filtered_probabilities_orig = get_predictions_and_probabilities(\"microsoft/deberta-xlarge-mnli\", filtered_data, False)\n",
        "save_pred(folder_path, \"filtered_predictions_orig_deberta.json\", filtered_predictions_orig)\n",
        "save_pred(folder_path, \"filtered_probabilities_orig_deberta.json\", filtered_probabilities_orig)\n",
        "\n",
        "filtered_predictions_perturbed, filtered_probabilities_perturbed = get_predictions_and_probabilities(\"microsoft/deberta-xlarge-mnli\", filtered_data, True)\n",
        "save_pred(folder_path, \"filtered_predictions_perturbed_deberta.json\", filtered_predictions_perturbed)\n",
        "save_pred(folder_path, \"filtered_probabilities_perturbed_deberta.json\", filtered_probabilities_perturbed)\n",
        "\n",
        "pred_annotated_orig = get_predictions(\"microsoft/deberta-xlarge-mnli\", filtered_data_annotated, False)\n",
        "save_pred(folder_path, \"pred_annotated_orig_deberta.json\", pred_annotated_orig)\n",
        "\n",
        "pred_annotated_perturbed = get_predictions(\"microsoft/deberta-xlarge-mnli\", filtered_data_annotated, True)\n",
        "save_pred(folder_path, \"pred_annotated_perturbed_deberta.json\", pred_annotated_perturbed)"
      ],
      "metadata": {
        "colab": {
          "base_uri": "https://localhost:8080/",
          "height": 177,
          "referenced_widgets": [
            "805f52c0a7df405fb0752faaed1f261c",
            "8ffc94e0c19049a08a41e375420b6cd8",
            "c3f6dfd0ead54c8599d6ee8f1f89459c",
            "31c4f25c08b84a59baef7672a8c753e1",
            "ae8572befb334f7e9205d7b558f23443",
            "99bc13ba7fe1455593950b513597ae9f",
            "d5dc3ecc7da24f7390651a009b6a46a7",
            "7372ad1ed61a44f7a5223b2be0d636e6",
            "0b3d6be06d2f49d6ba9c708d8a97fa61",
            "be6c90c13abe4c36be17b416470a6197",
            "19a9cd41e8274ac7a9f7d53efe9135c6",
            "e80bdaccb28e42d78e8ddcf376cee66b",
            "66054d183c0540a88e0a1baa65594d21",
            "e9ee06ef601740d0bb083a8b6e7f9ceb",
            "833659e77da3486dbde5eb147e53e222",
            "96fcaf45b02a4438a3b6a81917c6e5dd",
            "6527ebe5acb7414d89a783d21191f4b3",
            "a38c7908cc484359b948be4e60f78018",
            "1e70f49f98c24b16bddc8be99a65e8d5",
            "765e052eed1a46b8b86cf4defcd4e5a3",
            "39eca698449b4eeead61ef4531790586",
            "8b4615f5d012443da86fdef814d46729",
            "923a48afda3d4235bd64ed5c76ba1ebd",
            "09c82190c3c74058861ce6746464401d",
            "50dc94f9206d42128b467ac5411c37e5",
            "a9863e5e11f748a491693bba0f043fb8",
            "095fb114101d46108145d40934874037",
            "d92b055c507f41ae987a978370849ed9",
            "abd1cecb3f3c454b8196ae966554fcf5",
            "1facf8fb5dd847ab94e8b331c8e6b997",
            "d221637d3da04436b874738def6e7f20",
            "b6a36b24289a411f9b9df69e8e96cd8d",
            "03c95e358dcc4bfb93c163de1a81c1b3",
            "1480fddf1b9c4c139cea93255b13b4e2",
            "661775563a244178b34744ebd38f4580",
            "07723031221b476ca553affadb2eec70",
            "242f11f86d6e42eb9333bbf886c2f5c3",
            "7af45c4a7517408a966e7fb6d5036e3d",
            "b2d58871bc0942379982e911cec1a2d5",
            "46eef33a8bc04a7e85d4c0e73fc582c3",
            "5dbc4a144de94e819f66a7f4fcf7e7ca",
            "ad0a917f434341249c1bde92621004a3",
            "724a413f3d034c08a33bfa374813804d",
            "69023e22cff247cdb8d30e785a973a7d",
            "dd9aebdf97d1488eb86176b87165741d",
            "930360e4172e4997811deddc2738e086",
            "df4116576d404c5d9e4604d59eb1b014",
            "9334d9ee83c54948b715b255fa792525",
            "2f16d9d15eef451a914b449f418aa18b",
            "a8cf6658a7184e9bb5ccd866c5073058",
            "5279985506534e1eafaf93e74b8d7e62",
            "869099af998a474d8fdc229cc3388630",
            "f894ada9cdd34f4a84bb02cc444c8f10",
            "03b8e000e6a349d8a0540c33952be24b",
            "3640d506dd24452499820cb840ffd696"
          ]
        },
        "id": "f6FkefBiNSXC",
        "outputId": "482d0fd6-4ef5-4f3c-c3d0-dbadeb996c5d"
      },
      "execution_count": null,
      "outputs": [
        {
          "output_type": "display_data",
          "data": {
            "text/plain": [
              "Downloading (…)okenizer_config.json:   0%|          | 0.00/52.0 [00:00<?, ?B/s]"
            ],
            "application/vnd.jupyter.widget-view+json": {
              "version_major": 2,
              "version_minor": 0,
              "model_id": "805f52c0a7df405fb0752faaed1f261c"
            }
          },
          "metadata": {}
        },
        {
          "output_type": "display_data",
          "data": {
            "text/plain": [
              "Downloading (…)lve/main/config.json:   0%|          | 0.00/792 [00:00<?, ?B/s]"
            ],
            "application/vnd.jupyter.widget-view+json": {
              "version_major": 2,
              "version_minor": 0,
              "model_id": "e80bdaccb28e42d78e8ddcf376cee66b"
            }
          },
          "metadata": {}
        },
        {
          "output_type": "display_data",
          "data": {
            "text/plain": [
              "Downloading (…)olve/main/vocab.json:   0%|          | 0.00/899k [00:00<?, ?B/s]"
            ],
            "application/vnd.jupyter.widget-view+json": {
              "version_major": 2,
              "version_minor": 0,
              "model_id": "923a48afda3d4235bd64ed5c76ba1ebd"
            }
          },
          "metadata": {}
        },
        {
          "output_type": "display_data",
          "data": {
            "text/plain": [
              "Downloading (…)olve/main/merges.txt:   0%|          | 0.00/456k [00:00<?, ?B/s]"
            ],
            "application/vnd.jupyter.widget-view+json": {
              "version_major": 2,
              "version_minor": 0,
              "model_id": "1480fddf1b9c4c139cea93255b13b4e2"
            }
          },
          "metadata": {}
        },
        {
          "output_type": "display_data",
          "data": {
            "text/plain": [
              "Downloading pytorch_model.bin:   0%|          | 0.00/3.04G [00:00<?, ?B/s]"
            ],
            "application/vnd.jupyter.widget-view+json": {
              "version_major": 2,
              "version_minor": 0,
              "model_id": "dd9aebdf97d1488eb86176b87165741d"
            }
          },
          "metadata": {}
        }
      ]
    },
    {
      "cell_type": "markdown",
      "source": [
        "# evaluation"
      ],
      "metadata": {
        "id": "qf-m1glDK5ik"
      }
    },
    {
      "cell_type": "markdown",
      "source": [
        "### evaluation functions"
      ],
      "metadata": {
        "id": "cwVs5xY4K2zv"
      }
    },
    {
      "cell_type": "code",
      "source": [
        "# Process each model\n",
        "def process_model(loaded_pred_orig, loaded_pred_perturbed, orig_gold_label, new_gold_label):\n",
        "    # Accuracy\n",
        "    orig_acc = accuracy_score(orig_gold_label, loaded_pred_orig)\n",
        "    perturbed_acc = accuracy_score(new_gold_label, loaded_pred_perturbed)\n",
        "\n",
        "    print(f\"Original accuracy: {orig_acc}\")\n",
        "    print(f\"Perturbed accuracy: {perturbed_acc}\")\n",
        "\n",
        "    # Confusion matrix\n",
        "    cm_orig = confusion_matrix(orig_gold_label, loaded_pred_orig)\n",
        "    cm_perturbed = confusion_matrix(new_gold_label, loaded_pred_perturbed)\n",
        "\n",
        "    print(\"Confusion matrix for original predictions:\")\n",
        "    print(cm_orig)\n",
        "    cm_display1 = ConfusionMatrixDisplay(cm_orig).plot()\n",
        "\n",
        "    print(\"Confusion matrix for perturbed predictions:\")\n",
        "    print(cm_perturbed)\n",
        "    cm_display2 = ConfusionMatrixDisplay(cm_perturbed).plot()\n",
        "\n",
        "    # Note: You could compute and print more metrics from the confusion matrix,\n",
        "    # such as precision, recall, and F1 score, for a more detailed comparison.\n",
        "\n",
        "    # Calculate difference in accuracy\n",
        "    acc_diff = orig_acc - perturbed_acc\n",
        "    print(f\"Difference in accuracy between original and perturbed: {acc_diff}\")\n",
        "\n",
        "    # Compute error rate\n",
        "    error_rate_orig = 1 - orig_acc\n",
        "    error_rate_perturbed = 1 - perturbed_acc\n",
        "    print(f\"Error rate for original: {error_rate_orig}\")\n",
        "    print(f\"Error rate for perturbed: {error_rate_perturbed}\")\n",
        "\n",
        "    # Correctly adjusted predictions\n",
        "    correct_adj = sum([orig != pert and pert == new for orig, pert, new in zip(loaded_pred_orig, loaded_pred_perturbed, new_gold_label)])\n",
        "    correct_adj_ratio = correct_adj / sum([orig != new for orig, new in zip(loaded_pred_orig, new_gold_label)])\n",
        "    print(f\"Proportion of correctly adjusted predictions: {correct_adj_ratio}\")"
      ],
      "metadata": {
        "id": "QUeuvKHg5daQ"
      },
      "execution_count": 15,
      "outputs": []
    },
    {
      "cell_type": "code",
      "source": [
        "def filtered_process(pred_complete_orig, pred_complete_perturbed, pred_annotated_orig, pred_annotated_perturbed):\n",
        "    # Compute counts for original and perturbed predictions\n",
        "    complete_orig_counts = Counter(pred_complete_orig)\n",
        "    complete_perturbed_counts = Counter(pred_complete_perturbed)\n",
        "    annotated_orig_counts = Counter(pred_annotated_orig)\n",
        "    annotated_perturbed_counts = Counter(pred_annotated_perturbed)\n",
        "\n",
        "    # Compute proportions\n",
        "    complete_orig_proportions = {label: count/len(pred_complete_orig) for label, count in complete_orig_counts.items()}\n",
        "    complete_perturbed_proportions = {label: count/len(pred_complete_perturbed) for label, count in complete_perturbed_counts.items()}\n",
        "    annotated_orig_proportions = {label: count/len(pred_annotated_orig) for label, count in annotated_orig_counts.items()}\n",
        "    annotated_perturbed_proportions = {label: count/len(pred_annotated_perturbed) for label, count in annotated_perturbed_counts.items()}\n",
        "\n",
        "    # Print original and perturbed prediction proportions for complete and annotated data\n",
        "    print(\"Complete Original Prediction Proportions:\")\n",
        "    for label, proportion in complete_orig_proportions.items():\n",
        "        print(f\"Label {label}: {proportion*100:.2f}%\")\n",
        "\n",
        "    print(\"\\nComplete Perturbed Prediction Proportions:\")\n",
        "    for label, proportion in complete_perturbed_proportions.items():\n",
        "        print(f\"Label {label}: {proportion*100:.2f}%\")\n",
        "\n",
        "    print(\"\\nAnnotated Original Prediction Proportions:\")\n",
        "    for label, proportion in annotated_orig_proportions.items():\n",
        "        print(f\"Label {label}: {proportion*100:.2f}%\")\n",
        "\n",
        "    print(\"\\nAnnotated Perturbed Prediction Proportions:\")\n",
        "    for label, proportion in annotated_perturbed_proportions.items():\n",
        "        print(f\"Label {label}: {proportion*100:.2f}%\")\n",
        "\n",
        "    # Compute how many predictions remained the same for complete and annotated data\n",
        "    same_predictions_complete = sum([orig == pert for orig, pert in zip(pred_complete_orig, pred_complete_perturbed)])\n",
        "    same_predictions_annotated = sum([orig == pert for orig, pert in zip(pred_annotated_orig, pred_annotated_perturbed)])\n",
        "\n",
        "    same_predictions_complete_proportion = same_predictions_complete / len(pred_complete_orig)\n",
        "    same_predictions_annotated_proportion = same_predictions_annotated / len(pred_annotated_orig)\n",
        "\n",
        "    print(f\"\\nProportion of predictions that stayed the same for complete data: {same_predictions_complete_proportion*100:.2f}%\")\n",
        "    print(f\"\\nProportion of predictions that stayed the same for annotated data: {same_predictions_annotated_proportion*100:.2f}%\")\n",
        "\n",
        "    # Initialize dictionaries to store changes\n",
        "    prediction_changes_complete = defaultdict(int)\n",
        "    prediction_changes_annotated = defaultdict(int)\n",
        "\n",
        "    # Iterate over the datasets and count prediction changes\n",
        "    for orig, pert in zip(pred_complete_orig, pred_complete_perturbed):\n",
        "        if orig != pert:\n",
        "            prediction_changes_complete[(orig, pert)] += 1\n",
        "\n",
        "    for orig, pert in zip(pred_annotated_orig, pred_annotated_perturbed):\n",
        "        if orig != pert:\n",
        "            prediction_changes_annotated[(orig, pert)] += 1\n",
        "\n",
        "    # Calculate total changes\n",
        "    total_changes_complete = sum(prediction_changes_complete.values())\n",
        "    total_changes_annotated = sum(prediction_changes_annotated.values())\n",
        "\n",
        "    # Print change counts and proportions for complete and annotated data\n",
        "    print(\"\\nPrediction Change Counts and Proportions for Complete Data:\")\n",
        "    for change, count in prediction_changes_complete.items():\n",
        "        original, perturbed = change\n",
        "        proportion = count / total_changes_complete\n",
        "        print(f\"Change from {original} to {perturbed}: Count = {count}, Proportion = {proportion*100:.2f}%\")\n",
        "\n",
        "    print(\"\\nPrediction Change Counts and Proportions for Annotated Data:\")\n",
        "    for change, count in prediction_changes_annotated.items():\n",
        "        original, perturbed = change\n",
        "        proportion = count / total_changes_annotated\n",
        "        print(f\"Change from {original} to {perturbed}: Count = {count}, Proportion = {proportion*100:.2f}%\")"
      ],
      "metadata": {
        "id": "CsdnkBGfakui"
      },
      "execution_count": 16,
      "outputs": []
    },
    {
      "cell_type": "code",
      "source": [
        "def calculate_entropies(probs_orig, probs_perturbed):\n",
        "\n",
        "    entropies_orig = [entropy(probs[0]) for probs in probs_orig]\n",
        "    entropies_perturbed = [entropy(probs[0]) for probs in probs_perturbed]\n",
        "\n",
        "    avg_entropy_orig = sum(entropies_orig) / len(entropies_orig)\n",
        "    avg_entropy_perturbed = sum(entropies_perturbed) / len(entropies_perturbed)\n",
        "\n",
        "    print(f\"Average entropy for original dataset: {avg_entropy_orig}\")\n",
        "    print(f\"Average entropy for perturbed dataset: {avg_entropy_perturbed}\")\n",
        "\n",
        "    # Calculate the change in entropy\n",
        "    entropy_change = [e_pert - e_orig for e_pert, e_orig in zip(entropies_perturbed, entropies_orig)]\n",
        "    avg_entropy_change = sum(entropy_change) / len(entropy_change)\n",
        "\n",
        "    print(f\"Average change in entropy from original to perturbed dataset: {avg_entropy_change}\")"
      ],
      "metadata": {
        "id": "YIXN7zoh3qq9"
      },
      "execution_count": 17,
      "outputs": []
    },
    {
      "cell_type": "code",
      "source": [
        "def display_label_changes(pred_annotated_orig, pred_annotated_perturbed):\n",
        "\n",
        "    same_predictions_annotated = sum([orig == pert for orig, pert in zip(pred_annotated_orig, pred_annotated_perturbed)])\n",
        "    same_predictions_annotated_proportion = same_predictions_annotated / len(pred_annotated_orig)\n",
        "\n",
        "    print(f\"\\nProportion of labels that stayed the same for annotated data: {same_predictions_annotated_proportion*100:.2f}%\")\n",
        "\n",
        "    # Initialize dictionary to store changes\n",
        "    prediction_changes_annotated = defaultdict(int)\n",
        "\n",
        "    # Iterate over the datasets and count prediction changes\n",
        "    for orig, pert in zip(pred_annotated_orig, pred_annotated_perturbed):\n",
        "        if orig != pert:\n",
        "            prediction_changes_annotated[(orig, pert)] += 1\n",
        "\n",
        "    # Calculate total changes\n",
        "    total_changes_annotated = sum(prediction_changes_annotated.values())\n",
        "\n",
        "    # Print change counts and proportions for annotated data\n",
        "    print(\"\\nPrediction Change Counts and Proportions for Annotated Data:\")\n",
        "    for change, count in prediction_changes_annotated.items():\n",
        "        original, perturbed = change\n",
        "        proportion = count / total_changes_annotated\n",
        "        print(f\"Change from {original} to {perturbed}: Count = {count}, Proportion = {proportion*100:.2f}%\")"
      ],
      "metadata": {
        "id": "LsGIvY1KzxxL"
      },
      "execution_count": 26,
      "outputs": []
    },
    {
      "cell_type": "markdown",
      "source": [
        "### evaluation roberta"
      ],
      "metadata": {
        "id": "WlzHqHUtKylN"
      }
    },
    {
      "cell_type": "code",
      "source": [
        "filtered_predictions_orig = load_pred(folder_path, \"filtered_predictions_orig_roberta.json\")\n",
        "filtered_predictions_perturbed = load_pred(folder_path, \"filtered_predictions_perturbed_roberta.json\")\n",
        "\n",
        "filtered_probabilities_orig = load_pred(folder_path, \"filtered_probabilities_orig_roberta.json\")\n",
        "filtered_probabilities_perturbed = load_pred(folder_path, \"filtered_probabilities_perturbed_roberta.json\")\n",
        "\n",
        "pred_annotated_orig = load_pred(folder_path, \"pred_annotated_orig_roberta.json\")\n",
        "pred_annotated_perturbed = load_pred(folder_path, \"pred_annotated_perturbed_roberta.json\")"
      ],
      "metadata": {
        "id": "mJbIaELdV9Pj"
      },
      "execution_count": null,
      "outputs": []
    },
    {
      "cell_type": "code",
      "source": [
        "filtered_process(filtered_predictions_orig, filtered_predictions_perturbed, pred_annotated_orig, pred_annotated_perturbed)"
      ],
      "metadata": {
        "colab": {
          "base_uri": "https://localhost:8080/"
        },
        "id": "f5LXfdmjbofM",
        "outputId": "41390a63-9bfa-436b-aeea-eacadb81903b"
      },
      "execution_count": null,
      "outputs": [
        {
          "output_type": "stream",
          "name": "stdout",
          "text": [
            "Complete Original Prediction Proportions:\n",
            "Label 0: 34.53%\n",
            "Label 2: 32.52%\n",
            "Label 1: 32.95%\n",
            "\n",
            "Complete Perturbed Prediction Proportions:\n",
            "Label 1: 33.81%\n",
            "Label 2: 36.17%\n",
            "Label 0: 30.02%\n",
            "\n",
            "Annotated Original Prediction Proportions:\n",
            "Label 0: 33.71%\n",
            "Label 2: 34.00%\n",
            "Label 1: 32.29%\n",
            "\n",
            "Annotated Perturbed Prediction Proportions:\n",
            "Label 1: 33.71%\n",
            "Label 2: 36.86%\n",
            "Label 0: 29.43%\n",
            "\n",
            "Proportion of predictions that stayed the same for complete data: 81.31%\n",
            "\n",
            "Proportion of predictions that stayed the same for annotated data: 84.00%\n",
            "\n",
            "Prediction Change Counts and Proportions for Complete Data:\n",
            "Change from 0 to 1: Count = 111, Proportion = 17.08%\n",
            "Change from 1 to 2: Count = 129, Proportion = 19.85%\n",
            "Change from 2 to 0: Count = 50, Proportion = 7.69%\n",
            "Change from 2 to 1: Count = 120, Proportion = 18.46%\n",
            "Change from 0 to 2: Count = 168, Proportion = 25.85%\n",
            "Change from 1 to 0: Count = 72, Proportion = 11.08%\n",
            "\n",
            "Prediction Change Counts and Proportions for Annotated Data:\n",
            "Change from 0 to 1: Count = 8, Proportion = 14.29%\n",
            "Change from 1 to 2: Count = 9, Proportion = 16.07%\n",
            "Change from 2 to 0: Count = 4, Proportion = 7.14%\n",
            "Change from 2 to 1: Count = 12, Proportion = 21.43%\n",
            "Change from 0 to 2: Count = 17, Proportion = 30.36%\n",
            "Change from 1 to 0: Count = 6, Proportion = 10.71%\n"
          ]
        }
      ]
    },
    {
      "cell_type": "code",
      "source": [
        "calculate_entropies(filtered_probabilities_orig, filtered_probabilities_perturbed)"
      ],
      "metadata": {
        "colab": {
          "base_uri": "https://localhost:8080/"
        },
        "id": "vDEAgaaI4TsN",
        "outputId": "297ef90e-64aa-41ed-eb5c-acbcd2b38806"
      },
      "execution_count": null,
      "outputs": [
        {
          "output_type": "stream",
          "name": "stdout",
          "text": [
            "Average entropy for original dataset: 0.16039855908883904\n",
            "Average entropy for perturbed dataset: 0.2856821108292666\n",
            "Average change in entropy from original to perturbed dataset: 0.12528355174042755\n"
          ]
        }
      ]
    },
    {
      "cell_type": "code",
      "source": [
        "process_model(pred_annotated_orig, pred_annotated_perturbed, [sample['original_label'] for sample in filtered_data_annotated], [sample['user_label'] for sample in filtered_data_annotated])"
      ],
      "metadata": {
        "colab": {
          "base_uri": "https://localhost:8080/",
          "height": 1000
        },
        "id": "JfhLQ514563U",
        "outputId": "02715d8b-4490-4241-fef4-0071447dd26b"
      },
      "execution_count": null,
      "outputs": [
        {
          "output_type": "stream",
          "name": "stdout",
          "text": [
            "Original accuracy: 0.9342857142857143\n",
            "Perturbed accuracy: 0.6714285714285714\n",
            "Confusion matrix for original predictions:\n",
            "[[108   9   0]\n",
            " [  9 103   3]\n",
            " [  1   1 116]]\n",
            "Confusion matrix for perturbed predictions:\n",
            "[[ 52   4   4]\n",
            " [ 47 107  49]\n",
            " [  4   7  76]]\n",
            "Difference in accuracy between original and perturbed: 0.2628571428571429\n",
            "Error rate for original: 0.06571428571428573\n",
            "Error rate for perturbed: 0.3285714285714286\n",
            "Proportion of correctly adjusted predictions: 0.21008403361344538\n"
          ]
        },
        {
          "output_type": "display_data",
          "data": {
            "text/plain": [
              "<Figure size 640x480 with 2 Axes>"
            ],
            "image/png": "[encoded data removed]"
          },
          "metadata": {}
        },
        {
          "output_type": "display_data",
          "data": {
            "text/plain": [
              "<Figure size 640x480 with 2 Axes>"
            ],
            "image/png": "[encoded data removed]"
          },
          "metadata": {}
        }
      ]
    },
    {
      "cell_type": "markdown",
      "source": [
        "### evaluation bart"
      ],
      "metadata": {
        "id": "8uMhhqO7Kuox"
      }
    },
    {
      "cell_type": "code",
      "source": [
        "filtered_predictions_orig = load_pred(folder_path, \"filtered_predictions_orig_bart.json\")\n",
        "filtered_predictions_perturbed = load_pred(folder_path, \"filtered_predictions_perturbed_bart.json\")\n",
        "\n",
        "filtered_probabilities_orig = load_pred(folder_path, \"filtered_probabilities_orig_bart.json\")\n",
        "filtered_probabilities_perturbed = load_pred(folder_path, \"filtered_probabilities_perturbed_bart.json\")\n",
        "\n",
        "pred_annotated_orig = load_pred(folder_path, \"pred_annotated_orig_bart.json\")\n",
        "pred_annotated_perturbed = load_pred(folder_path, \"pred_annotated_perturbed_bart.json\")"
      ],
      "metadata": {
        "id": "LEOv5XBlWnjM"
      },
      "execution_count": null,
      "outputs": []
    },
    {
      "cell_type": "code",
      "source": [
        "filtered_process(filtered_predictions_orig, filtered_predictions_perturbed, pred_annotated_orig, pred_annotated_perturbed)"
      ],
      "metadata": {
        "colab": {
          "base_uri": "https://localhost:8080/"
        },
        "id": "KEM-szhtb7r-",
        "outputId": "41ecceed-c9e9-4a02-97fd-6cd4f9dc1a95"
      },
      "execution_count": null,
      "outputs": [
        {
          "output_type": "stream",
          "name": "stdout",
          "text": [
            "Complete Original Prediction Proportions:\n",
            "Label 0: 34.79%\n",
            "Label 2: 32.63%\n",
            "Label 1: 32.58%\n",
            "\n",
            "Complete Perturbed Prediction Proportions:\n",
            "Label 1: 31.63%\n",
            "Label 2: 36.86%\n",
            "Label 0: 31.51%\n",
            "\n",
            "Annotated Original Prediction Proportions:\n",
            "Label 0: 35.43%\n",
            "Label 2: 33.14%\n",
            "Label 1: 31.43%\n",
            "\n",
            "Annotated Perturbed Prediction Proportions:\n",
            "Label 1: 33.43%\n",
            "Label 2: 35.43%\n",
            "Label 0: 31.14%\n",
            "\n",
            "Proportion of predictions that stayed the same for complete data: 81.60%\n",
            "\n",
            "Proportion of predictions that stayed the same for annotated data: 82.86%\n",
            "\n",
            "Prediction Change Counts and Proportions for Complete Data:\n",
            "Change from 0 to 1: Count = 101, Proportion = 15.78%\n",
            "Change from 0 to 2: Count = 149, Proportion = 23.28%\n",
            "Change from 2 to 0: Count = 56, Proportion = 8.75%\n",
            "Change from 2 to 1: Count = 100, Proportion = 15.62%\n",
            "Change from 1 to 0: Count = 80, Proportion = 12.50%\n",
            "Change from 1 to 2: Count = 154, Proportion = 24.06%\n",
            "\n",
            "Prediction Change Counts and Proportions for Annotated Data:\n",
            "Change from 0 to 1: Count = 11, Proportion = 18.33%\n",
            "Change from 0 to 2: Count = 17, Proportion = 28.33%\n",
            "Change from 2 to 0: Count = 8, Proportion = 13.33%\n",
            "Change from 2 to 1: Count = 10, Proportion = 16.67%\n",
            "Change from 1 to 0: Count = 5, Proportion = 8.33%\n",
            "Change from 1 to 2: Count = 9, Proportion = 15.00%\n"
          ]
        }
      ]
    },
    {
      "cell_type": "code",
      "source": [
        "calculate_entropies(filtered_probabilities_orig, filtered_probabilities_perturbed)"
      ],
      "metadata": {
        "colab": {
          "base_uri": "https://localhost:8080/"
        },
        "id": "x4s4yZ7K4zQi",
        "outputId": "8b1c9d94-fd66-4628-9d79-ae56ac553347"
      },
      "execution_count": null,
      "outputs": [
        {
          "output_type": "stream",
          "name": "stdout",
          "text": [
            "Average entropy for original dataset: 0.12087887856234333\n",
            "Average entropy for perturbed dataset: 0.2074311048686317\n",
            "Average change in entropy from original to perturbed dataset: 0.08655222630628888\n"
          ]
        }
      ]
    },
    {
      "cell_type": "code",
      "source": [
        "process_model(pred_annotated_orig, pred_annotated_perturbed, [sample['original_label'] for sample in filtered_data_annotated], [sample['user_label'] for sample in filtered_data_annotated])"
      ],
      "metadata": {
        "colab": {
          "base_uri": "https://localhost:8080/",
          "height": 1000
        },
        "id": "oY4OtGIQWx5s",
        "outputId": "12d98f6a-65b4-4226-8832-be381e39933e"
      },
      "execution_count": null,
      "outputs": [
        {
          "output_type": "stream",
          "name": "stdout",
          "text": [
            "Original accuracy: 0.9057142857142857\n",
            "Perturbed accuracy: 0.6685714285714286\n",
            "Confusion matrix for original predictions:\n",
            "[[107   8   2]\n",
            " [ 13  99   3]\n",
            " [  4   3 111]]\n",
            "Confusion matrix for perturbed predictions:\n",
            "[[ 53   4   3]\n",
            " [ 51 106  46]\n",
            " [  5   7  75]]\n",
            "Difference in accuracy between original and perturbed: 0.2371428571428571\n",
            "Error rate for original: 0.0942857142857143\n",
            "Error rate for perturbed: 0.3314285714285714\n",
            "Proportion of correctly adjusted predictions: 0.19166666666666668\n"
          ]
        },
        {
          "output_type": "display_data",
          "data": {
            "text/plain": [
              "<Figure size 640x480 with 2 Axes>"
            ],
            "image/png": "[encoded data removed]"
          },
          "metadata": {}
        },
        {
          "output_type": "display_data",
          "data": {
            "text/plain": [
              "<Figure size 640x480 with 2 Axes>"
            ],
            "image/png": "[encoded data removed]"
          },
          "metadata": {}
        }
      ]
    },
    {
      "cell_type": "markdown",
      "source": [
        "### evaluation deberta"
      ],
      "metadata": {
        "id": "WEWAJnz9KpjD"
      }
    },
    {
      "cell_type": "code",
      "source": [
        "filtered_predictions_orig = load_pred(folder_path, \"filtered_predictions_orig_deberta.json\")\n",
        "filtered_predictions_perturbed = load_pred(folder_path, \"filtered_predictions_perturbed_deberta.json\")\n",
        "\n",
        "filtered_probabilities_orig = load_pred(folder_path, \"filtered_probabilities_orig_deberta.json\")\n",
        "filtered_probabilities_perturbed = load_pred(folder_path, \"filtered_probabilities_perturbed_deberta.json\")\n",
        "\n",
        "pred_annotated_orig = load_pred(folder_path, \"pred_annotated_orig_deberta.json\")\n",
        "pred_annotated_perturbed = load_pred(folder_path, \"pred_annotated_perturbed_deberta.json\")"
      ],
      "metadata": {
        "id": "WpY3MLmBW3Hq"
      },
      "execution_count": null,
      "outputs": []
    },
    {
      "cell_type": "code",
      "source": [
        "filtered_process(filtered_predictions_orig, filtered_predictions_perturbed, pred_annotated_orig, pred_annotated_perturbed)"
      ],
      "metadata": {
        "colab": {
          "base_uri": "https://localhost:8080/"
        },
        "id": "_juoZRDJb9E1",
        "outputId": "7d30d204-7d31-4d77-a2fa-2dc2fd712ef9"
      },
      "execution_count": null,
      "outputs": [
        {
          "output_type": "stream",
          "name": "stdout",
          "text": [
            "Complete Original Prediction Proportions:\n",
            "Label 0: 35.19%\n",
            "Label 2: 31.77%\n",
            "Label 1: 33.04%\n",
            "\n",
            "Complete Perturbed Prediction Proportions:\n",
            "Label 0: 31.05%\n",
            "Label 2: 34.33%\n",
            "Label 1: 34.62%\n",
            "\n",
            "Annotated Original Prediction Proportions:\n",
            "Label 0: 35.71%\n",
            "Label 2: 32.00%\n",
            "Label 1: 32.29%\n",
            "\n",
            "Annotated Perturbed Prediction Proportions:\n",
            "Label 0: 29.14%\n",
            "Label 2: 34.57%\n",
            "Label 1: 36.29%\n",
            "\n",
            "Proportion of predictions that stayed the same for complete data: 82.06%\n",
            "\n",
            "Proportion of predictions that stayed the same for annotated data: 83.43%\n",
            "\n",
            "Prediction Change Counts and Proportions for Complete Data:\n",
            "Change from 0 to 1: Count = 128, Proportion = 20.51%\n",
            "Change from 2 to 0: Count = 64, Proportion = 10.26%\n",
            "Change from 0 to 2: Count = 143, Proportion = 22.92%\n",
            "Change from 1 to 2: Count = 118, Proportion = 18.91%\n",
            "Change from 1 to 0: Count = 63, Proportion = 10.10%\n",
            "Change from 2 to 1: Count = 108, Proportion = 17.31%\n",
            "\n",
            "Prediction Change Counts and Proportions for Annotated Data:\n",
            "Change from 0 to 1: Count = 15, Proportion = 25.86%\n",
            "Change from 2 to 0: Count = 7, Proportion = 12.07%\n",
            "Change from 0 to 2: Count = 19, Proportion = 32.76%\n",
            "Change from 1 to 2: Count = 5, Proportion = 8.62%\n",
            "Change from 1 to 0: Count = 4, Proportion = 6.90%\n",
            "Change from 2 to 1: Count = 8, Proportion = 13.79%\n"
          ]
        }
      ]
    },
    {
      "cell_type": "code",
      "source": [
        "calculate_entropies(filtered_probabilities_orig, filtered_probabilities_perturbed)"
      ],
      "metadata": {
        "colab": {
          "base_uri": "https://localhost:8080/"
        },
        "id": "bW2z6FJS40K3",
        "outputId": "8a545323-85c1-48bd-ed84-5ff3b5cc80c7"
      },
      "execution_count": null,
      "outputs": [
        {
          "output_type": "stream",
          "name": "stdout",
          "text": [
            "Average entropy for original dataset: 0.20272918221727043\n",
            "Average entropy for perturbed dataset: 0.3509633752236694\n",
            "Average change in entropy from original to perturbed dataset: 0.1482341930063992\n"
          ]
        }
      ]
    },
    {
      "cell_type": "code",
      "source": [
        "process_model(pred_annotated_orig, pred_annotated_perturbed, [sample['original_label'] for sample in filtered_data_annotated], [sample['user_label'] for sample in filtered_data_annotated])"
      ],
      "metadata": {
        "colab": {
          "base_uri": "https://localhost:8080/",
          "height": 1000
        },
        "id": "LCPcnL2iW-DU",
        "outputId": "69a4006e-8ca0-428c-de73-c41d551206a8"
      },
      "execution_count": null,
      "outputs": [
        {
          "output_type": "stream",
          "name": "stdout",
          "text": [
            "Original accuracy: 0.9171428571428571\n",
            "Perturbed accuracy: 0.6828571428571428\n",
            "Confusion matrix for original predictions:\n",
            "[[109   8   0]\n",
            " [ 13 101   1]\n",
            " [  3   4 111]]\n",
            "Confusion matrix for perturbed predictions:\n",
            "[[ 50   5   5]\n",
            " [ 44 116  43]\n",
            " [  8   6  73]]\n",
            "Difference in accuracy between original and perturbed: 0.23428571428571432\n",
            "Error rate for original: 0.08285714285714285\n",
            "Error rate for perturbed: 0.31714285714285717\n",
            "Proportion of correctly adjusted predictions: 0.21008403361344538\n"
          ]
        },
        {
          "output_type": "display_data",
          "data": {
            "text/plain": [
              "<Figure size 640x480 with 2 Axes>"
            ],
            "image/png": "[encoded data removed]"
          },
          "metadata": {}
        },
        {
          "output_type": "display_data",
          "data": {
            "text/plain": [
              "<Figure size 640x480 with 2 Axes>"
            ],
            "image/png": "[encoded data removed]"
          },
          "metadata": {}
        }
      ]
    },
    {
      "cell_type": "code",
      "source": [
        "display_label_changes([sample['original_label'] for sample in filtered_data_annotated], [sample['user_label'] for sample in filtered_data_annotated])"
      ],
      "metadata": {
        "colab": {
          "base_uri": "https://localhost:8080/"
        },
        "id": "JzYG7eB-z0GE",
        "outputId": "fb176bbe-a91e-4d4c-a291-a32a3f8d6d14"
      },
      "execution_count": 27,
      "outputs": [
        {
          "output_type": "stream",
          "name": "stdout",
          "text": [
            "\n",
            "Proportion of labels that stayed the same for annotated data: 69.71%\n",
            "\n",
            "Prediction Change Counts and Proportions for Annotated Data:\n",
            "Change from 0 to 1: Count = 52, Proportion = 49.06%\n",
            "Change from 2 to 1: Count = 39, Proportion = 36.79%\n",
            "Change from 2 to 0: Count = 3, Proportion = 2.83%\n",
            "Change from 0 to 2: Count = 9, Proportion = 8.49%\n",
            "Change from 1 to 0: Count = 1, Proportion = 0.94%\n",
            "Change from 1 to 2: Count = 2, Proportion = 1.89%\n"
          ]
        }
      ]
    }
  ],
  "metadata": {
    "colab": {
      "provenance": [],
      "gpuType": "T4",
      "collapsed_sections": [
        "YqXgRf16T7V2",
        "_V1q3FwOTGqr"
      ],
      "toc_visible": true
    },
    "kernelspec": {
      "display_name": "Python 3",
      "name": "python3"
    },
    "language_info": {
      "name": "python"
    },
    "widgets": {
      "application/vnd.jupyter.widget-state+json": {
        "21a5890dde1b4e4e94a9903eb3dd5dda": {
          "model_module": "@jupyter-widgets/controls",
          "model_name": "HBoxModel",
          "model_module_version": "1.5.0",
          "state": {
            "_dom_classes": [],
            "_model_module": "@jupyter-widgets/controls",
            "_model_module_version": "1.5.0",
            "_model_name": "HBoxModel",
            "_view_count": null,
            "_view_module": "@jupyter-widgets/controls",
            "_view_module_version": "1.5.0",
            "_view_name": "HBoxView",
            "box_style": "",
            "children": [
              "IPY_MODEL_bfaaa845897e4f7aaf561b3da37b6f84",
              "IPY_MODEL_e448980dbb6f4299bcc7b37757ec1050",
              "IPY_MODEL_40f7940b805f4dcbad80dd01ca7d916d"
            ],
            "layout": "IPY_MODEL_d1986070ade843b5989ec749161919c4"
          }
        },
        "bfaaa845897e4f7aaf561b3da37b6f84": {
          "model_module": "@jupyter-widgets/controls",
          "model_name": "HTMLModel",
          "model_module_version": "1.5.0",
          "state": {
            "_dom_classes": [],
            "_model_module": "@jupyter-widgets/controls",
            "_model_module_version": "1.5.0",
            "_model_name": "HTMLModel",
            "_view_count": null,
            "_view_module": "@jupyter-widgets/controls",
            "_view_module_version": "1.5.0",
            "_view_name": "HTMLView",
            "description": "",
            "description_tooltip": null,
            "layout": "IPY_MODEL_546bed9da51a4f8a878e8b973d8b9746",
            "placeholder": "​",
            "style": "IPY_MODEL_41182c831bd243bda760dc8f8d8fe726",
            "value": "Downloading (…)okenizer_config.json: 100%"
          }
        },
        "e448980dbb6f4299bcc7b37757ec1050": {
          "model_module": "@jupyter-widgets/controls",
          "model_name": "FloatProgressModel",
          "model_module_version": "1.5.0",
          "state": {
            "_dom_classes": [],
            "_model_module": "@jupyter-widgets/controls",
            "_model_module_version": "1.5.0",
            "_model_name": "FloatProgressModel",
            "_view_count": null,
            "_view_module": "@jupyter-widgets/controls",
            "_view_module_version": "1.5.0",
            "_view_name": "ProgressView",
            "bar_style": "success",
            "description": "",
            "description_tooltip": null,
            "layout": "IPY_MODEL_c8ef2ccb84e74dc0ab9544a5fecbc067",
            "max": 289,
            "min": 0,
            "orientation": "horizontal",
            "style": "IPY_MODEL_4e89d513003f4e06864528f05493c15b",
            "value": 289
          }
        },
        "40f7940b805f4dcbad80dd01ca7d916d": {
          "model_module": "@jupyter-widgets/controls",
          "model_name": "HTMLModel",
          "model_module_version": "1.5.0",
          "state": {
            "_dom_classes": [],
            "_model_module": "@jupyter-widgets/controls",
            "_model_module_version": "1.5.0",
            "_model_name": "HTMLModel",
            "_view_count": null,
            "_view_module": "@jupyter-widgets/controls",
            "_view_module_version": "1.5.0",
            "_view_name": "HTMLView",
            "description": "",
            "description_tooltip": null,
            "layout": "IPY_MODEL_6ab7350d15f2477596b264bc4eab0701",
            "placeholder": "​",
            "style": "IPY_MODEL_2b78473dfa794abb8b70fb3f489d4682",
            "value": " 289/289 [00:00&lt;00:00, 17.7kB/s]"
          }
        },
        "d1986070ade843b5989ec749161919c4": {
          "model_module": "@jupyter-widgets/base",
          "model_name": "LayoutModel",
          "model_module_version": "1.2.0",
          "state": {
            "_model_module": "@jupyter-widgets/base",
            "_model_module_version": "1.2.0",
            "_model_name": "LayoutModel",
            "_view_count": null,
            "_view_module": "@jupyter-widgets/base",
            "_view_module_version": "1.2.0",
            "_view_name": "LayoutView",
            "align_content": null,
            "align_items": null,
            "align_self": null,
            "border": null,
            "bottom": null,
            "display": null,
            "flex": null,
            "flex_flow": null,
            "grid_area": null,
            "grid_auto_columns": null,
            "grid_auto_flow": null,
            "grid_auto_rows": null,
            "grid_column": null,
            "grid_gap": null,
            "grid_row": null,
            "grid_template_areas": null,
            "grid_template_columns": null,
            "grid_template_rows": null,
            "height": null,
            "justify_content": null,
            "justify_items": null,
            "left": null,
            "margin": null,
            "max_height": null,
            "max_width": null,
            "min_height": null,
            "min_width": null,
            "object_fit": null,
            "object_position": null,
            "order": null,
            "overflow": null,
            "overflow_x": null,
            "overflow_y": null,
            "padding": null,
            "right": null,
            "top": null,
            "visibility": null,
            "width": null
          }
        },
        "546bed9da51a4f8a878e8b973d8b9746": {
          "model_module": "@jupyter-widgets/base",
          "model_name": "LayoutModel",
          "model_module_version": "1.2.0",
          "state": {
            "_model_module": "@jupyter-widgets/base",
            "_model_module_version": "1.2.0",
            "_model_name": "LayoutModel",
            "_view_count": null,
            "_view_module": "@jupyter-widgets/base",
            "_view_module_version": "1.2.0",
            "_view_name": "LayoutView",
            "align_content": null,
            "align_items": null,
            "align_self": null,
            "border": null,
            "bottom": null,
            "display": null,
            "flex": null,
            "flex_flow": null,
            "grid_area": null,
            "grid_auto_columns": null,
            "grid_auto_flow": null,
            "grid_auto_rows": null,
            "grid_column": null,
            "grid_gap": null,
            "grid_row": null,
            "grid_template_areas": null,
            "grid_template_columns": null,
            "grid_template_rows": null,
            "height": null,
            "justify_content": null,
            "justify_items": null,
            "left": null,
            "margin": null,
            "max_height": null,
            "max_width": null,
            "min_height": null,
            "min_width": null,
            "object_fit": null,
            "object_position": null,
            "order": null,
            "overflow": null,
            "overflow_x": null,
            "overflow_y": null,
            "padding": null,
            "right": null,
            "top": null,
            "visibility": null,
            "width": null
          }
        },
        "41182c831bd243bda760dc8f8d8fe726": {
          "model_module": "@jupyter-widgets/controls",
          "model_name": "DescriptionStyleModel",
          "model_module_version": "1.5.0",
          "state": {
            "_model_module": "@jupyter-widgets/controls",
            "_model_module_version": "1.5.0",
            "_model_name": "DescriptionStyleModel",
            "_view_count": null,
            "_view_module": "@jupyter-widgets/base",
            "_view_module_version": "1.2.0",
            "_view_name": "StyleView",
            "description_width": ""
          }
        },
        "c8ef2ccb84e74dc0ab9544a5fecbc067": {
          "model_module": "@jupyter-widgets/base",
          "model_name": "LayoutModel",
          "model_module_version": "1.2.0",
          "state": {
            "_model_module": "@jupyter-widgets/base",
            "_model_module_version": "1.2.0",
            "_model_name": "LayoutModel",
            "_view_count": null,
            "_view_module": "@jupyter-widgets/base",
            "_view_module_version": "1.2.0",
            "_view_name": "LayoutView",
            "align_content": null,
            "align_items": null,
            "align_self": null,
            "border": null,
            "bottom": null,
            "display": null,
            "flex": null,
            "flex_flow": null,
            "grid_area": null,
            "grid_auto_columns": null,
            "grid_auto_flow": null,
            "grid_auto_rows": null,
            "grid_column": null,
            "grid_gap": null,
            "grid_row": null,
            "grid_template_areas": null,
            "grid_template_columns": null,
            "grid_template_rows": null,
            "height": null,
            "justify_content": null,
            "justify_items": null,
            "left": null,
            "margin": null,
            "max_height": null,
            "max_width": null,
            "min_height": null,
            "min_width": null,
            "object_fit": null,
            "object_position": null,
            "order": null,
            "overflow": null,
            "overflow_x": null,
            "overflow_y": null,
            "padding": null,
            "right": null,
            "top": null,
            "visibility": null,
            "width": null
          }
        },
        "4e89d513003f4e06864528f05493c15b": {
          "model_module": "@jupyter-widgets/controls",
          "model_name": "ProgressStyleModel",
          "model_module_version": "1.5.0",
          "state": {
            "_model_module": "@jupyter-widgets/controls",
            "_model_module_version": "1.5.0",
            "_model_name": "ProgressStyleModel",
            "_view_count": null,
            "_view_module": "@jupyter-widgets/base",
            "_view_module_version": "1.2.0",
            "_view_name": "StyleView",
            "bar_color": null,
            "description_width": ""
          }
        },
        "6ab7350d15f2477596b264bc4eab0701": {
          "model_module": "@jupyter-widgets/base",
          "model_name": "LayoutModel",
          "model_module_version": "1.2.0",
          "state": {
            "_model_module": "@jupyter-widgets/base",
            "_model_module_version": "1.2.0",
            "_model_name": "LayoutModel",
            "_view_count": null,
            "_view_module": "@jupyter-widgets/base",
            "_view_module_version": "1.2.0",
            "_view_name": "LayoutView",
            "align_content": null,
            "align_items": null,
            "align_self": null,
            "border": null,
            "bottom": null,
            "display": null,
            "flex": null,
            "flex_flow": null,
            "grid_area": null,
            "grid_auto_columns": null,
            "grid_auto_flow": null,
            "grid_auto_rows": null,
            "grid_column": null,
            "grid_gap": null,
            "grid_row": null,
            "grid_template_areas": null,
            "grid_template_columns": null,
            "grid_template_rows": null,
            "height": null,
            "justify_content": null,
            "justify_items": null,
            "left": null,
            "margin": null,
            "max_height": null,
            "max_width": null,
            "min_height": null,
            "min_width": null,
            "object_fit": null,
            "object_position": null,
            "order": null,
            "overflow": null,
            "overflow_x": null,
            "overflow_y": null,
            "padding": null,
            "right": null,
            "top": null,
            "visibility": null,
            "width": null
          }
        },
        "2b78473dfa794abb8b70fb3f489d4682": {
          "model_module": "@jupyter-widgets/controls",
          "model_name": "DescriptionStyleModel",
          "model_module_version": "1.5.0",
          "state": {
            "_model_module": "@jupyter-widgets/controls",
            "_model_module_version": "1.5.0",
            "_model_name": "DescriptionStyleModel",
            "_view_count": null,
            "_view_module": "@jupyter-widgets/base",
            "_view_module_version": "1.2.0",
            "_view_name": "StyleView",
            "description_width": ""
          }
        },
        "06dc8a59e5de4e80bf3a9c7bea05d49c": {
          "model_module": "@jupyter-widgets/controls",
          "model_name": "HBoxModel",
          "model_module_version": "1.5.0",
          "state": {
            "_dom_classes": [],
            "_model_module": "@jupyter-widgets/controls",
            "_model_module_version": "1.5.0",
            "_model_name": "HBoxModel",
            "_view_count": null,
            "_view_module": "@jupyter-widgets/controls",
            "_view_module_version": "1.5.0",
            "_view_name": "HBoxView",
            "box_style": "",
            "children": [
              "IPY_MODEL_d7d1f369b1434946aa54e5f7858830ee",
              "IPY_MODEL_90bec6fa01c840c791dab1c45ad5db5a",
              "IPY_MODEL_1a8f538ae40f45ae9201456d01632335"
            ],
            "layout": "IPY_MODEL_784dc2f64e864552aea6986ae508018b"
          }
        },
        "d7d1f369b1434946aa54e5f7858830ee": {
          "model_module": "@jupyter-widgets/controls",
          "model_name": "HTMLModel",
          "model_module_version": "1.5.0",
          "state": {
            "_dom_classes": [],
            "_model_module": "@jupyter-widgets/controls",
            "_model_module_version": "1.5.0",
            "_model_name": "HTMLModel",
            "_view_count": null,
            "_view_module": "@jupyter-widgets/controls",
            "_view_module_version": "1.5.0",
            "_view_name": "HTMLView",
            "description": "",
            "description_tooltip": null,
            "layout": "IPY_MODEL_5d14d8c4457043ada8f264d35a7b1197",
            "placeholder": "​",
            "style": "IPY_MODEL_3868d105c7ad451a868d01c28c927745",
            "value": "Downloading (…)lve/main/config.json: 100%"
          }
        },
        "90bec6fa01c840c791dab1c45ad5db5a": {
          "model_module": "@jupyter-widgets/controls",
          "model_name": "FloatProgressModel",
          "model_module_version": "1.5.0",
          "state": {
            "_dom_classes": [],
            "_model_module": "@jupyter-widgets/controls",
            "_model_module_version": "1.5.0",
            "_model_name": "FloatProgressModel",
            "_view_count": null,
            "_view_module": "@jupyter-widgets/controls",
            "_view_module_version": "1.5.0",
            "_view_name": "ProgressView",
            "bar_style": "success",
            "description": "",
            "description_tooltip": null,
            "layout": "IPY_MODEL_2d3155ea027e4caebe807fbb91fb2b03",
            "max": 628,
            "min": 0,
            "orientation": "horizontal",
            "style": "IPY_MODEL_ced0c5e5a3dd47fc897cfa4020327c20",
            "value": 628
          }
        },
        "1a8f538ae40f45ae9201456d01632335": {
          "model_module": "@jupyter-widgets/controls",
          "model_name": "HTMLModel",
          "model_module_version": "1.5.0",
          "state": {
            "_dom_classes": [],
            "_model_module": "@jupyter-widgets/controls",
            "_model_module_version": "1.5.0",
            "_model_name": "HTMLModel",
            "_view_count": null,
            "_view_module": "@jupyter-widgets/controls",
            "_view_module_version": "1.5.0",
            "_view_name": "HTMLView",
            "description": "",
            "description_tooltip": null,
            "layout": "IPY_MODEL_36ee9fa4e25f40888e27d4eb1ecf53ec",
            "placeholder": "​",
            "style": "IPY_MODEL_c555c425340e46e2948af3a854e15901",
            "value": " 628/628 [00:00&lt;00:00, 48.0kB/s]"
          }
        },
        "784dc2f64e864552aea6986ae508018b": {
          "model_module": "@jupyter-widgets/base",
          "model_name": "LayoutModel",
          "model_module_version": "1.2.0",
          "state": {
            "_model_module": "@jupyter-widgets/base",
            "_model_module_version": "1.2.0",
            "_model_name": "LayoutModel",
            "_view_count": null,
            "_view_module": "@jupyter-widgets/base",
            "_view_module_version": "1.2.0",
            "_view_name": "LayoutView",
            "align_content": null,
            "align_items": null,
            "align_self": null,
            "border": null,
            "bottom": null,
            "display": null,
            "flex": null,
            "flex_flow": null,
            "grid_area": null,
            "grid_auto_columns": null,
            "grid_auto_flow": null,
            "grid_auto_rows": null,
            "grid_column": null,
            "grid_gap": null,
            "grid_row": null,
            "grid_template_areas": null,
            "grid_template_columns": null,
            "grid_template_rows": null,
            "height": null,
            "justify_content": null,
            "justify_items": null,
            "left": null,
            "margin": null,
            "max_height": null,
            "max_width": null,
            "min_height": null,
            "min_width": null,
            "object_fit": null,
            "object_position": null,
            "order": null,
            "overflow": null,
            "overflow_x": null,
            "overflow_y": null,
            "padding": null,
            "right": null,
            "top": null,
            "visibility": null,
            "width": null
          }
        },
        "5d14d8c4457043ada8f264d35a7b1197": {
          "model_module": "@jupyter-widgets/base",
          "model_name": "LayoutModel",
          "model_module_version": "1.2.0",
          "state": {
            "_model_module": "@jupyter-widgets/base",
            "_model_module_version": "1.2.0",
            "_model_name": "LayoutModel",
            "_view_count": null,
            "_view_module": "@jupyter-widgets/base",
            "_view_module_version": "1.2.0",
            "_view_name": "LayoutView",
            "align_content": null,
            "align_items": null,
            "align_self": null,
            "border": null,
            "bottom": null,
            "display": null,
            "flex": null,
            "flex_flow": null,
            "grid_area": null,
            "grid_auto_columns": null,
            "grid_auto_flow": null,
            "grid_auto_rows": null,
            "grid_column": null,
            "grid_gap": null,
            "grid_row": null,
            "grid_template_areas": null,
            "grid_template_columns": null,
            "grid_template_rows": null,
            "height": null,
            "justify_content": null,
            "justify_items": null,
            "left": null,
            "margin": null,
            "max_height": null,
            "max_width": null,
            "min_height": null,
            "min_width": null,
            "object_fit": null,
            "object_position": null,
            "order": null,
            "overflow": null,
            "overflow_x": null,
            "overflow_y": null,
            "padding": null,
            "right": null,
            "top": null,
            "visibility": null,
            "width": null
          }
        },
        "3868d105c7ad451a868d01c28c927745": {
          "model_module": "@jupyter-widgets/controls",
          "model_name": "DescriptionStyleModel",
          "model_module_version": "1.5.0",
          "state": {
            "_model_module": "@jupyter-widgets/controls",
            "_model_module_version": "1.5.0",
            "_model_name": "DescriptionStyleModel",
            "_view_count": null,
            "_view_module": "@jupyter-widgets/base",
            "_view_module_version": "1.2.0",
            "_view_name": "StyleView",
            "description_width": ""
          }
        },
        "2d3155ea027e4caebe807fbb91fb2b03": {
          "model_module": "@jupyter-widgets/base",
          "model_name": "LayoutModel",
          "model_module_version": "1.2.0",
          "state": {
            "_model_module": "@jupyter-widgets/base",
            "_model_module_version": "1.2.0",
            "_model_name": "LayoutModel",
            "_view_count": null,
            "_view_module": "@jupyter-widgets/base",
            "_view_module_version": "1.2.0",
            "_view_name": "LayoutView",
            "align_content": null,
            "align_items": null,
            "align_self": null,
            "border": null,
            "bottom": null,
            "display": null,
            "flex": null,
            "flex_flow": null,
            "grid_area": null,
            "grid_auto_columns": null,
            "grid_auto_flow": null,
            "grid_auto_rows": null,
            "grid_column": null,
            "grid_gap": null,
            "grid_row": null,
            "grid_template_areas": null,
            "grid_template_columns": null,
            "grid_template_rows": null,
            "height": null,
            "justify_content": null,
            "justify_items": null,
            "left": null,
            "margin": null,
            "max_height": null,
            "max_width": null,
            "min_height": null,
            "min_width": null,
            "object_fit": null,
            "object_position": null,
            "order": null,
            "overflow": null,
            "overflow_x": null,
            "overflow_y": null,
            "padding": null,
            "right": null,
            "top": null,
            "visibility": null,
            "width": null
          }
        },
        "ced0c5e5a3dd47fc897cfa4020327c20": {
          "model_module": "@jupyter-widgets/controls",
          "model_name": "ProgressStyleModel",
          "model_module_version": "1.5.0",
          "state": {
            "_model_module": "@jupyter-widgets/controls",
            "_model_module_version": "1.5.0",
            "_model_name": "ProgressStyleModel",
            "_view_count": null,
            "_view_module": "@jupyter-widgets/base",
            "_view_module_version": "1.2.0",
            "_view_name": "StyleView",
            "bar_color": null,
            "description_width": ""
          }
        },
        "36ee9fa4e25f40888e27d4eb1ecf53ec": {
          "model_module": "@jupyter-widgets/base",
          "model_name": "LayoutModel",
          "model_module_version": "1.2.0",
          "state": {
            "_model_module": "@jupyter-widgets/base",
            "_model_module_version": "1.2.0",
            "_model_name": "LayoutModel",
            "_view_count": null,
            "_view_module": "@jupyter-widgets/base",
            "_view_module_version": "1.2.0",
            "_view_name": "LayoutView",
            "align_content": null,
            "align_items": null,
            "align_self": null,
            "border": null,
            "bottom": null,
            "display": null,
            "flex": null,
            "flex_flow": null,
            "grid_area": null,
            "grid_auto_columns": null,
            "grid_auto_flow": null,
            "grid_auto_rows": null,
            "grid_column": null,
            "grid_gap": null,
            "grid_row": null,
            "grid_template_areas": null,
            "grid_template_columns": null,
            "grid_template_rows": null,
            "height": null,
            "justify_content": null,
            "justify_items": null,
            "left": null,
            "margin": null,
            "max_height": null,
            "max_width": null,
            "min_height": null,
            "min_width": null,
            "object_fit": null,
            "object_position": null,
            "order": null,
            "overflow": null,
            "overflow_x": null,
            "overflow_y": null,
            "padding": null,
            "right": null,
            "top": null,
            "visibility": null,
            "width": null
          }
        },
        "c555c425340e46e2948af3a854e15901": {
          "model_module": "@jupyter-widgets/controls",
          "model_name": "DescriptionStyleModel",
          "model_module_version": "1.5.0",
          "state": {
            "_model_module": "@jupyter-widgets/controls",
            "_model_module_version": "1.5.0",
            "_model_name": "DescriptionStyleModel",
            "_view_count": null,
            "_view_module": "@jupyter-widgets/base",
            "_view_module_version": "1.2.0",
            "_view_name": "StyleView",
            "description_width": ""
          }
        },
        "3ffb4c4664b14999bc2e6194375b8e99": {
          "model_module": "@jupyter-widgets/controls",
          "model_name": "HBoxModel",
          "model_module_version": "1.5.0",
          "state": {
            "_dom_classes": [],
            "_model_module": "@jupyter-widgets/controls",
            "_model_module_version": "1.5.0",
            "_model_name": "HBoxModel",
            "_view_count": null,
            "_view_module": "@jupyter-widgets/controls",
            "_view_module_version": "1.5.0",
            "_view_name": "HBoxView",
            "box_style": "",
            "children": [
              "IPY_MODEL_8ff94c82e50648e4867fb7ed15a74af2",
              "IPY_MODEL_1cdf8fd33a604824a390d10730a46620",
              "IPY_MODEL_fcc388bc6ceb433aa3a284aeaaa4e031"
            ],
            "layout": "IPY_MODEL_35627be92d9c4c0087748e23cd360855"
          }
        },
        "8ff94c82e50648e4867fb7ed15a74af2": {
          "model_module": "@jupyter-widgets/controls",
          "model_name": "HTMLModel",
          "model_module_version": "1.5.0",
          "state": {
            "_dom_classes": [],
            "_model_module": "@jupyter-widgets/controls",
            "_model_module_version": "1.5.0",
            "_model_name": "HTMLModel",
            "_view_count": null,
            "_view_module": "@jupyter-widgets/controls",
            "_view_module_version": "1.5.0",
            "_view_name": "HTMLView",
            "description": "",
            "description_tooltip": null,
            "layout": "IPY_MODEL_47ab6665e70c49949f3ff1cbbc7d4036",
            "placeholder": "​",
            "style": "IPY_MODEL_111d4bf760d04ecd89e6e887dac79fb2",
            "value": "Downloading (…)olve/main/vocab.json: 100%"
          }
        },
        "1cdf8fd33a604824a390d10730a46620": {
          "model_module": "@jupyter-widgets/controls",
          "model_name": "FloatProgressModel",
          "model_module_version": "1.5.0",
          "state": {
            "_dom_classes": [],
            "_model_module": "@jupyter-widgets/controls",
            "_model_module_version": "1.5.0",
            "_model_name": "FloatProgressModel",
            "_view_count": null,
            "_view_module": "@jupyter-widgets/controls",
            "_view_module_version": "1.5.0",
            "_view_name": "ProgressView",
            "bar_style": "success",
            "description": "",
            "description_tooltip": null,
            "layout": "IPY_MODEL_ccff370ab3c04994829bc3de14290077",
            "max": 798293,
            "min": 0,
            "orientation": "horizontal",
            "style": "IPY_MODEL_ba208b5f787645fda29aa88479e9d649",
            "value": 798293
          }
        },
        "fcc388bc6ceb433aa3a284aeaaa4e031": {
          "model_module": "@jupyter-widgets/controls",
          "model_name": "HTMLModel",
          "model_module_version": "1.5.0",
          "state": {
            "_dom_classes": [],
            "_model_module": "@jupyter-widgets/controls",
            "_model_module_version": "1.5.0",
            "_model_name": "HTMLModel",
            "_view_count": null,
            "_view_module": "@jupyter-widgets/controls",
            "_view_module_version": "1.5.0",
            "_view_name": "HTMLView",
            "description": "",
            "description_tooltip": null,
            "layout": "IPY_MODEL_cfdb9667ad484a29bc15ca38c570ffa0",
            "placeholder": "​",
            "style": "IPY_MODEL_d9a51185f1b4459daad21f75f452a01c",
            "value": " 798k/798k [00:00&lt;00:00, 944kB/s]"
          }
        },
        "35627be92d9c4c0087748e23cd360855": {
          "model_module": "@jupyter-widgets/base",
          "model_name": "LayoutModel",
          "model_module_version": "1.2.0",
          "state": {
            "_model_module": "@jupyter-widgets/base",
            "_model_module_version": "1.2.0",
            "_model_name": "LayoutModel",
            "_view_count": null,
            "_view_module": "@jupyter-widgets/base",
            "_view_module_version": "1.2.0",
            "_view_name": "LayoutView",
            "align_content": null,
            "align_items": null,
            "align_self": null,
            "border": null,
            "bottom": null,
            "display": null,
            "flex": null,
            "flex_flow": null,
            "grid_area": null,
            "grid_auto_columns": null,
            "grid_auto_flow": null,
            "grid_auto_rows": null,
            "grid_column": null,
            "grid_gap": null,
            "grid_row": null,
            "grid_template_areas": null,
            "grid_template_columns": null,
            "grid_template_rows": null,
            "height": null,
            "justify_content": null,
            "justify_items": null,
            "left": null,
            "margin": null,
            "max_height": null,
            "max_width": null,
            "min_height": null,
            "min_width": null,
            "object_fit": null,
            "object_position": null,
            "order": null,
            "overflow": null,
            "overflow_x": null,
            "overflow_y": null,
            "padding": null,
            "right": null,
            "top": null,
            "visibility": null,
            "width": null
          }
        },
        "47ab6665e70c49949f3ff1cbbc7d4036": {
          "model_module": "@jupyter-widgets/base",
          "model_name": "LayoutModel",
          "model_module_version": "1.2.0",
          "state": {
            "_model_module": "@jupyter-widgets/base",
            "_model_module_version": "1.2.0",
            "_model_name": "LayoutModel",
            "_view_count": null,
            "_view_module": "@jupyter-widgets/base",
            "_view_module_version": "1.2.0",
            "_view_name": "LayoutView",
            "align_content": null,
            "align_items": null,
            "align_self": null,
            "border": null,
            "bottom": null,
            "display": null,
            "flex": null,
            "flex_flow": null,
            "grid_area": null,
            "grid_auto_columns": null,
            "grid_auto_flow": null,
            "grid_auto_rows": null,
            "grid_column": null,
            "grid_gap": null,
            "grid_row": null,
            "grid_template_areas": null,
            "grid_template_columns": null,
            "grid_template_rows": null,
            "height": null,
            "justify_content": null,
            "justify_items": null,
            "left": null,
            "margin": null,
            "max_height": null,
            "max_width": null,
            "min_height": null,
            "min_width": null,
            "object_fit": null,
            "object_position": null,
            "order": null,
            "overflow": null,
            "overflow_x": null,
            "overflow_y": null,
            "padding": null,
            "right": null,
            "top": null,
            "visibility": null,
            "width": null
          }
        },
        "111d4bf760d04ecd89e6e887dac79fb2": {
          "model_module": "@jupyter-widgets/controls",
          "model_name": "DescriptionStyleModel",
          "model_module_version": "1.5.0",
          "state": {
            "_model_module": "@jupyter-widgets/controls",
            "_model_module_version": "1.5.0",
            "_model_name": "DescriptionStyleModel",
            "_view_count": null,
            "_view_module": "@jupyter-widgets/base",
            "_view_module_version": "1.2.0",
            "_view_name": "StyleView",
            "description_width": ""
          }
        },
        "ccff370ab3c04994829bc3de14290077": {
          "model_module": "@jupyter-widgets/base",
          "model_name": "LayoutModel",
          "model_module_version": "1.2.0",
          "state": {
            "_model_module": "@jupyter-widgets/base",
            "_model_module_version": "1.2.0",
            "_model_name": "LayoutModel",
            "_view_count": null,
            "_view_module": "@jupyter-widgets/base",
            "_view_module_version": "1.2.0",
            "_view_name": "LayoutView",
            "align_content": null,
            "align_items": null,
            "align_self": null,
            "border": null,
            "bottom": null,
            "display": null,
            "flex": null,
            "flex_flow": null,
            "grid_area": null,
            "grid_auto_columns": null,
            "grid_auto_flow": null,
            "grid_auto_rows": null,
            "grid_column": null,
            "grid_gap": null,
            "grid_row": null,
            "grid_template_areas": null,
            "grid_template_columns": null,
            "grid_template_rows": null,
            "height": null,
            "justify_content": null,
            "justify_items": null,
            "left": null,
            "margin": null,
            "max_height": null,
            "max_width": null,
            "min_height": null,
            "min_width": null,
            "object_fit": null,
            "object_position": null,
            "order": null,
            "overflow": null,
            "overflow_x": null,
            "overflow_y": null,
            "padding": null,
            "right": null,
            "top": null,
            "visibility": null,
            "width": null
          }
        },
        "ba208b5f787645fda29aa88479e9d649": {
          "model_module": "@jupyter-widgets/controls",
          "model_name": "ProgressStyleModel",
          "model_module_version": "1.5.0",
          "state": {
            "_model_module": "@jupyter-widgets/controls",
            "_model_module_version": "1.5.0",
            "_model_name": "ProgressStyleModel",
            "_view_count": null,
            "_view_module": "@jupyter-widgets/base",
            "_view_module_version": "1.2.0",
            "_view_name": "StyleView",
            "bar_color": null,
            "description_width": ""
          }
        },
        "cfdb9667ad484a29bc15ca38c570ffa0": {
          "model_module": "@jupyter-widgets/base",
          "model_name": "LayoutModel",
          "model_module_version": "1.2.0",
          "state": {
            "_model_module": "@jupyter-widgets/base",
            "_model_module_version": "1.2.0",
            "_model_name": "LayoutModel",
            "_view_count": null,
            "_view_module": "@jupyter-widgets/base",
            "_view_module_version": "1.2.0",
            "_view_name": "LayoutView",
            "align_content": null,
            "align_items": null,
            "align_self": null,
            "border": null,
            "bottom": null,
            "display": null,
            "flex": null,
            "flex_flow": null,
            "grid_area": null,
            "grid_auto_columns": null,
            "grid_auto_flow": null,
            "grid_auto_rows": null,
            "grid_column": null,
            "grid_gap": null,
            "grid_row": null,
            "grid_template_areas": null,
            "grid_template_columns": null,
            "grid_template_rows": null,
            "height": null,
            "justify_content": null,
            "justify_items": null,
            "left": null,
            "margin": null,
            "max_height": null,
            "max_width": null,
            "min_height": null,
            "min_width": null,
            "object_fit": null,
            "object_position": null,
            "order": null,
            "overflow": null,
            "overflow_x": null,
            "overflow_y": null,
            "padding": null,
            "right": null,
            "top": null,
            "visibility": null,
            "width": null
          }
        },
        "d9a51185f1b4459daad21f75f452a01c": {
          "model_module": "@jupyter-widgets/controls",
          "model_name": "DescriptionStyleModel",
          "model_module_version": "1.5.0",
          "state": {
            "_model_module": "@jupyter-widgets/controls",
            "_model_module_version": "1.5.0",
            "_model_name": "DescriptionStyleModel",
            "_view_count": null,
            "_view_module": "@jupyter-widgets/base",
            "_view_module_version": "1.2.0",
            "_view_name": "StyleView",
            "description_width": ""
          }
        },
        "04371b10d643454490dd962f5302958b": {
          "model_module": "@jupyter-widgets/controls",
          "model_name": "HBoxModel",
          "model_module_version": "1.5.0",
          "state": {
            "_dom_classes": [],
            "_model_module": "@jupyter-widgets/controls",
            "_model_module_version": "1.5.0",
            "_model_name": "HBoxModel",
            "_view_count": null,
            "_view_module": "@jupyter-widgets/controls",
            "_view_module_version": "1.5.0",
            "_view_name": "HBoxView",
            "box_style": "",
            "children": [
              "IPY_MODEL_d49331740d6d4082b043406232966ea1",
              "IPY_MODEL_cb965f4c29c84df69687b3f414d78993",
              "IPY_MODEL_8e076ed121c044c18aef791e6e61e808"
            ],
            "layout": "IPY_MODEL_27137525b4a147c5a51bd7b78e5bd5f5"
          }
        },
        "d49331740d6d4082b043406232966ea1": {
          "model_module": "@jupyter-widgets/controls",
          "model_name": "HTMLModel",
          "model_module_version": "1.5.0",
          "state": {
            "_dom_classes": [],
            "_model_module": "@jupyter-widgets/controls",
            "_model_module_version": "1.5.0",
            "_model_name": "HTMLModel",
            "_view_count": null,
            "_view_module": "@jupyter-widgets/controls",
            "_view_module_version": "1.5.0",
            "_view_name": "HTMLView",
            "description": "",
            "description_tooltip": null,
            "layout": "IPY_MODEL_f128e3f51fe848f9910c084d6f974765",
            "placeholder": "​",
            "style": "IPY_MODEL_f7c95fac1b904c319e7cd9e854dfcc3c",
            "value": "Downloading (…)olve/main/merges.txt: 100%"
          }
        },
        "cb965f4c29c84df69687b3f414d78993": {
          "model_module": "@jupyter-widgets/controls",
          "model_name": "FloatProgressModel",
          "model_module_version": "1.5.0",
          "state": {
            "_dom_classes": [],
            "_model_module": "@jupyter-widgets/controls",
            "_model_module_version": "1.5.0",
            "_model_name": "FloatProgressModel",
            "_view_count": null,
            "_view_module": "@jupyter-widgets/controls",
            "_view_module_version": "1.5.0",
            "_view_name": "ProgressView",
            "bar_style": "success",
            "description": "",
            "description_tooltip": null,
            "layout": "IPY_MODEL_4bae9e61328b4e75931f1810dbfcef39",
            "max": 456356,
            "min": 0,
            "orientation": "horizontal",
            "style": "IPY_MODEL_506bb7df2dfb4aae9186cb068e29adef",
            "value": 456356
          }
        },
        "8e076ed121c044c18aef791e6e61e808": {
          "model_module": "@jupyter-widgets/controls",
          "model_name": "HTMLModel",
          "model_module_version": "1.5.0",
          "state": {
            "_dom_classes": [],
            "_model_module": "@jupyter-widgets/controls",
            "_model_module_version": "1.5.0",
            "_model_name": "HTMLModel",
            "_view_count": null,
            "_view_module": "@jupyter-widgets/controls",
            "_view_module_version": "1.5.0",
            "_view_name": "HTMLView",
            "description": "",
            "description_tooltip": null,
            "layout": "IPY_MODEL_8848b5e9cc6841acadd1bf7971de9c84",
            "placeholder": "​",
            "style": "IPY_MODEL_6cd4fbc7607f4c88a0c239e4ff52a357",
            "value": " 456k/456k [00:00&lt;00:00, 717kB/s]"
          }
        },
        "27137525b4a147c5a51bd7b78e5bd5f5": {
          "model_module": "@jupyter-widgets/base",
          "model_name": "LayoutModel",
          "model_module_version": "1.2.0",
          "state": {
            "_model_module": "@jupyter-widgets/base",
            "_model_module_version": "1.2.0",
            "_model_name": "LayoutModel",
            "_view_count": null,
            "_view_module": "@jupyter-widgets/base",
            "_view_module_version": "1.2.0",
            "_view_name": "LayoutView",
            "align_content": null,
            "align_items": null,
            "align_self": null,
            "border": null,
            "bottom": null,
            "display": null,
            "flex": null,
            "flex_flow": null,
            "grid_area": null,
            "grid_auto_columns": null,
            "grid_auto_flow": null,
            "grid_auto_rows": null,
            "grid_column": null,
            "grid_gap": null,
            "grid_row": null,
            "grid_template_areas": null,
            "grid_template_columns": null,
            "grid_template_rows": null,
            "height": null,
            "justify_content": null,
            "justify_items": null,
            "left": null,
            "margin": null,
            "max_height": null,
            "max_width": null,
            "min_height": null,
            "min_width": null,
            "object_fit": null,
            "object_position": null,
            "order": null,
            "overflow": null,
            "overflow_x": null,
            "overflow_y": null,
            "padding": null,
            "right": null,
            "top": null,
            "visibility": null,
            "width": null
          }
        },
        "f128e3f51fe848f9910c084d6f974765": {
          "model_module": "@jupyter-widgets/base",
          "model_name": "LayoutModel",
          "model_module_version": "1.2.0",
          "state": {
            "_model_module": "@jupyter-widgets/base",
            "_model_module_version": "1.2.0",
            "_model_name": "LayoutModel",
            "_view_count": null,
            "_view_module": "@jupyter-widgets/base",
            "_view_module_version": "1.2.0",
            "_view_name": "LayoutView",
            "align_content": null,
            "align_items": null,
            "align_self": null,
            "border": null,
            "bottom": null,
            "display": null,
            "flex": null,
            "flex_flow": null,
            "grid_area": null,
            "grid_auto_columns": null,
            "grid_auto_flow": null,
            "grid_auto_rows": null,
            "grid_column": null,
            "grid_gap": null,
            "grid_row": null,
            "grid_template_areas": null,
            "grid_template_columns": null,
            "grid_template_rows": null,
            "height": null,
            "justify_content": null,
            "justify_items": null,
            "left": null,
            "margin": null,
            "max_height": null,
            "max_width": null,
            "min_height": null,
            "min_width": null,
            "object_fit": null,
            "object_position": null,
            "order": null,
            "overflow": null,
            "overflow_x": null,
            "overflow_y": null,
            "padding": null,
            "right": null,
            "top": null,
            "visibility": null,
            "width": null
          }
        },
        "f7c95fac1b904c319e7cd9e854dfcc3c": {
          "model_module": "@jupyter-widgets/controls",
          "model_name": "DescriptionStyleModel",
          "model_module_version": "1.5.0",
          "state": {
            "_model_module": "@jupyter-widgets/controls",
            "_model_module_version": "1.5.0",
            "_model_name": "DescriptionStyleModel",
            "_view_count": null,
            "_view_module": "@jupyter-widgets/base",
            "_view_module_version": "1.2.0",
            "_view_name": "StyleView",
            "description_width": ""
          }
        },
        "4bae9e61328b4e75931f1810dbfcef39": {
          "model_module": "@jupyter-widgets/base",
          "model_name": "LayoutModel",
          "model_module_version": "1.2.0",
          "state": {
            "_model_module": "@jupyter-widgets/base",
            "_model_module_version": "1.2.0",
            "_model_name": "LayoutModel",
            "_view_count": null,
            "_view_module": "@jupyter-widgets/base",
            "_view_module_version": "1.2.0",
            "_view_name": "LayoutView",
            "align_content": null,
            "align_items": null,
            "align_self": null,
            "border": null,
            "bottom": null,
            "display": null,
            "flex": null,
            "flex_flow": null,
            "grid_area": null,
            "grid_auto_columns": null,
            "grid_auto_flow": null,
            "grid_auto_rows": null,
            "grid_column": null,
            "grid_gap": null,
            "grid_row": null,
            "grid_template_areas": null,
            "grid_template_columns": null,
            "grid_template_rows": null,
            "height": null,
            "justify_content": null,
            "justify_items": null,
            "left": null,
            "margin": null,
            "max_height": null,
            "max_width": null,
            "min_height": null,
            "min_width": null,
            "object_fit": null,
            "object_position": null,
            "order": null,
            "overflow": null,
            "overflow_x": null,
            "overflow_y": null,
            "padding": null,
            "right": null,
            "top": null,
            "visibility": null,
            "width": null
          }
        },
        "506bb7df2dfb4aae9186cb068e29adef": {
          "model_module": "@jupyter-widgets/controls",
          "model_name": "ProgressStyleModel",
          "model_module_version": "1.5.0",
          "state": {
            "_model_module": "@jupyter-widgets/controls",
            "_model_module_version": "1.5.0",
            "_model_name": "ProgressStyleModel",
            "_view_count": null,
            "_view_module": "@jupyter-widgets/base",
            "_view_module_version": "1.2.0",
            "_view_name": "StyleView",
            "bar_color": null,
            "description_width": ""
          }
        },
        "8848b5e9cc6841acadd1bf7971de9c84": {
          "model_module": "@jupyter-widgets/base",
          "model_name": "LayoutModel",
          "model_module_version": "1.2.0",
          "state": {
            "_model_module": "@jupyter-widgets/base",
            "_model_module_version": "1.2.0",
            "_model_name": "LayoutModel",
            "_view_count": null,
            "_view_module": "@jupyter-widgets/base",
            "_view_module_version": "1.2.0",
            "_view_name": "LayoutView",
            "align_content": null,
            "align_items": null,
            "align_self": null,
            "border": null,
            "bottom": null,
            "display": null,
            "flex": null,
            "flex_flow": null,
            "grid_area": null,
            "grid_auto_columns": null,
            "grid_auto_flow": null,
            "grid_auto_rows": null,
            "grid_column": null,
            "grid_gap": null,
            "grid_row": null,
            "grid_template_areas": null,
            "grid_template_columns": null,
            "grid_template_rows": null,
            "height": null,
            "justify_content": null,
            "justify_items": null,
            "left": null,
            "margin": null,
            "max_height": null,
            "max_width": null,
            "min_height": null,
            "min_width": null,
            "object_fit": null,
            "object_position": null,
            "order": null,
            "overflow": null,
            "overflow_x": null,
            "overflow_y": null,
            "padding": null,
            "right": null,
            "top": null,
            "visibility": null,
            "width": null
          }
        },
        "6cd4fbc7607f4c88a0c239e4ff52a357": {
          "model_module": "@jupyter-widgets/controls",
          "model_name": "DescriptionStyleModel",
          "model_module_version": "1.5.0",
          "state": {
            "_model_module": "@jupyter-widgets/controls",
            "_model_module_version": "1.5.0",
            "_model_name": "DescriptionStyleModel",
            "_view_count": null,
            "_view_module": "@jupyter-widgets/base",
            "_view_module_version": "1.2.0",
            "_view_name": "StyleView",
            "description_width": ""
          }
        },
        "2dc88a3204d841cba1581f868fd85f96": {
          "model_module": "@jupyter-widgets/controls",
          "model_name": "HBoxModel",
          "model_module_version": "1.5.0",
          "state": {
            "_dom_classes": [],
            "_model_module": "@jupyter-widgets/controls",
            "_model_module_version": "1.5.0",
            "_model_name": "HBoxModel",
            "_view_count": null,
            "_view_module": "@jupyter-widgets/controls",
            "_view_module_version": "1.5.0",
            "_view_name": "HBoxView",
            "box_style": "",
            "children": [
              "IPY_MODEL_1d6f77e50acd416ba0d01fd9ea99903e",
              "IPY_MODEL_4759144abb094e60a24a977b895d6a8a",
              "IPY_MODEL_2b59e1b346504642a17f3156b977d6cb"
            ],
            "layout": "IPY_MODEL_3f1211aadefe4e3aae74cd74cc2cabc3"
          }
        },
        "1d6f77e50acd416ba0d01fd9ea99903e": {
          "model_module": "@jupyter-widgets/controls",
          "model_name": "HTMLModel",
          "model_module_version": "1.5.0",
          "state": {
            "_dom_classes": [],
            "_model_module": "@jupyter-widgets/controls",
            "_model_module_version": "1.5.0",
            "_model_name": "HTMLModel",
            "_view_count": null,
            "_view_module": "@jupyter-widgets/controls",
            "_view_module_version": "1.5.0",
            "_view_name": "HTMLView",
            "description": "",
            "description_tooltip": null,
            "layout": "IPY_MODEL_5fdefcc2339b442180b683390f463123",
            "placeholder": "​",
            "style": "IPY_MODEL_d252333788ae4ca7abd2c7a4128ec176",
            "value": "Downloading (…)/main/tokenizer.json: 100%"
          }
        },
        "4759144abb094e60a24a977b895d6a8a": {
          "model_module": "@jupyter-widgets/controls",
          "model_name": "FloatProgressModel",
          "model_module_version": "1.5.0",
          "state": {
            "_dom_classes": [],
            "_model_module": "@jupyter-widgets/controls",
            "_model_module_version": "1.5.0",
            "_model_name": "FloatProgressModel",
            "_view_count": null,
            "_view_module": "@jupyter-widgets/controls",
            "_view_module_version": "1.5.0",
            "_view_name": "ProgressView",
            "bar_style": "success",
            "description": "",
            "description_tooltip": null,
            "layout": "IPY_MODEL_a94558298d6f47e2b0b30aeec2f46817",
            "max": 1355997,
            "min": 0,
            "orientation": "horizontal",
            "style": "IPY_MODEL_3922d213acc1479385dd8057a962d7de",
            "value": 1355997
          }
        },
        "2b59e1b346504642a17f3156b977d6cb": {
          "model_module": "@jupyter-widgets/controls",
          "model_name": "HTMLModel",
          "model_module_version": "1.5.0",
          "state": {
            "_dom_classes": [],
            "_model_module": "@jupyter-widgets/controls",
            "_model_module_version": "1.5.0",
            "_model_name": "HTMLModel",
            "_view_count": null,
            "_view_module": "@jupyter-widgets/controls",
            "_view_module_version": "1.5.0",
            "_view_name": "HTMLView",
            "description": "",
            "description_tooltip": null,
            "layout": "IPY_MODEL_b4a7b29cfc0a4e7ead0b6067a2d2dfd0",
            "placeholder": "​",
            "style": "IPY_MODEL_9b660f702e644297ab77d39f886b3b0a",
            "value": " 1.36M/1.36M [00:01&lt;00:00, 1.25MB/s]"
          }
        },
        "3f1211aadefe4e3aae74cd74cc2cabc3": {
          "model_module": "@jupyter-widgets/base",
          "model_name": "LayoutModel",
          "model_module_version": "1.2.0",
          "state": {
            "_model_module": "@jupyter-widgets/base",
            "_model_module_version": "1.2.0",
            "_model_name": "LayoutModel",
            "_view_count": null,
            "_view_module": "@jupyter-widgets/base",
            "_view_module_version": "1.2.0",
            "_view_name": "LayoutView",
            "align_content": null,
            "align_items": null,
            "align_self": null,
            "border": null,
            "bottom": null,
            "display": null,
            "flex": null,
            "flex_flow": null,
            "grid_area": null,
            "grid_auto_columns": null,
            "grid_auto_flow": null,
            "grid_auto_rows": null,
            "grid_column": null,
            "grid_gap": null,
            "grid_row": null,
            "grid_template_areas": null,
            "grid_template_columns": null,
            "grid_template_rows": null,
            "height": null,
            "justify_content": null,
            "justify_items": null,
            "left": null,
            "margin": null,
            "max_height": null,
            "max_width": null,
            "min_height": null,
            "min_width": null,
            "object_fit": null,
            "object_position": null,
            "order": null,
            "overflow": null,
            "overflow_x": null,
            "overflow_y": null,
            "padding": null,
            "right": null,
            "top": null,
            "visibility": null,
            "width": null
          }
        },
        "5fdefcc2339b442180b683390f463123": {
          "model_module": "@jupyter-widgets/base",
          "model_name": "LayoutModel",
          "model_module_version": "1.2.0",
          "state": {
            "_model_module": "@jupyter-widgets/base",
            "_model_module_version": "1.2.0",
            "_model_name": "LayoutModel",
            "_view_count": null,
            "_view_module": "@jupyter-widgets/base",
            "_view_module_version": "1.2.0",
            "_view_name": "LayoutView",
            "align_content": null,
            "align_items": null,
            "align_self": null,
            "border": null,
            "bottom": null,
            "display": null,
            "flex": null,
            "flex_flow": null,
            "grid_area": null,
            "grid_auto_columns": null,
            "grid_auto_flow": null,
            "grid_auto_rows": null,
            "grid_column": null,
            "grid_gap": null,
            "grid_row": null,
            "grid_template_areas": null,
            "grid_template_columns": null,
            "grid_template_rows": null,
            "height": null,
            "justify_content": null,
            "justify_items": null,
            "left": null,
            "margin": null,
            "max_height": null,
            "max_width": null,
            "min_height": null,
            "min_width": null,
            "object_fit": null,
            "object_position": null,
            "order": null,
            "overflow": null,
            "overflow_x": null,
            "overflow_y": null,
            "padding": null,
            "right": null,
            "top": null,
            "visibility": null,
            "width": null
          }
        },
        "d252333788ae4ca7abd2c7a4128ec176": {
          "model_module": "@jupyter-widgets/controls",
          "model_name": "DescriptionStyleModel",
          "model_module_version": "1.5.0",
          "state": {
            "_model_module": "@jupyter-widgets/controls",
            "_model_module_version": "1.5.0",
            "_model_name": "DescriptionStyleModel",
            "_view_count": null,
            "_view_module": "@jupyter-widgets/base",
            "_view_module_version": "1.2.0",
            "_view_name": "StyleView",
            "description_width": ""
          }
        },
        "a94558298d6f47e2b0b30aeec2f46817": {
          "model_module": "@jupyter-widgets/base",
          "model_name": "LayoutModel",
          "model_module_version": "1.2.0",
          "state": {
            "_model_module": "@jupyter-widgets/base",
            "_model_module_version": "1.2.0",
            "_model_name": "LayoutModel",
            "_view_count": null,
            "_view_module": "@jupyter-widgets/base",
            "_view_module_version": "1.2.0",
            "_view_name": "LayoutView",
            "align_content": null,
            "align_items": null,
            "align_self": null,
            "border": null,
            "bottom": null,
            "display": null,
            "flex": null,
            "flex_flow": null,
            "grid_area": null,
            "grid_auto_columns": null,
            "grid_auto_flow": null,
            "grid_auto_rows": null,
            "grid_column": null,
            "grid_gap": null,
            "grid_row": null,
            "grid_template_areas": null,
            "grid_template_columns": null,
            "grid_template_rows": null,
            "height": null,
            "justify_content": null,
            "justify_items": null,
            "left": null,
            "margin": null,
            "max_height": null,
            "max_width": null,
            "min_height": null,
            "min_width": null,
            "object_fit": null,
            "object_position": null,
            "order": null,
            "overflow": null,
            "overflow_x": null,
            "overflow_y": null,
            "padding": null,
            "right": null,
            "top": null,
            "visibility": null,
            "width": null
          }
        },
        "3922d213acc1479385dd8057a962d7de": {
          "model_module": "@jupyter-widgets/controls",
          "model_name": "ProgressStyleModel",
          "model_module_version": "1.5.0",
          "state": {
            "_model_module": "@jupyter-widgets/controls",
            "_model_module_version": "1.5.0",
            "_model_name": "ProgressStyleModel",
            "_view_count": null,
            "_view_module": "@jupyter-widgets/base",
            "_view_module_version": "1.2.0",
            "_view_name": "StyleView",
            "bar_color": null,
            "description_width": ""
          }
        },
        "b4a7b29cfc0a4e7ead0b6067a2d2dfd0": {
          "model_module": "@jupyter-widgets/base",
          "model_name": "LayoutModel",
          "model_module_version": "1.2.0",
          "state": {
            "_model_module": "@jupyter-widgets/base",
            "_model_module_version": "1.2.0",
            "_model_name": "LayoutModel",
            "_view_count": null,
            "_view_module": "@jupyter-widgets/base",
            "_view_module_version": "1.2.0",
            "_view_name": "LayoutView",
            "align_content": null,
            "align_items": null,
            "align_self": null,
            "border": null,
            "bottom": null,
            "display": null,
            "flex": null,
            "flex_flow": null,
            "grid_area": null,
            "grid_auto_columns": null,
            "grid_auto_flow": null,
            "grid_auto_rows": null,
            "grid_column": null,
            "grid_gap": null,
            "grid_row": null,
            "grid_template_areas": null,
            "grid_template_columns": null,
            "grid_template_rows": null,
            "height": null,
            "justify_content": null,
            "justify_items": null,
            "left": null,
            "margin": null,
            "max_height": null,
            "max_width": null,
            "min_height": null,
            "min_width": null,
            "object_fit": null,
            "object_position": null,
            "order": null,
            "overflow": null,
            "overflow_x": null,
            "overflow_y": null,
            "padding": null,
            "right": null,
            "top": null,
            "visibility": null,
            "width": null
          }
        },
        "9b660f702e644297ab77d39f886b3b0a": {
          "model_module": "@jupyter-widgets/controls",
          "model_name": "DescriptionStyleModel",
          "model_module_version": "1.5.0",
          "state": {
            "_model_module": "@jupyter-widgets/controls",
            "_model_module_version": "1.5.0",
            "_model_name": "DescriptionStyleModel",
            "_view_count": null,
            "_view_module": "@jupyter-widgets/base",
            "_view_module_version": "1.2.0",
            "_view_name": "StyleView",
            "description_width": ""
          }
        },
        "3af21f2c76804f0cad2abf206a40dfe5": {
          "model_module": "@jupyter-widgets/controls",
          "model_name": "HBoxModel",
          "model_module_version": "1.5.0",
          "state": {
            "_dom_classes": [],
            "_model_module": "@jupyter-widgets/controls",
            "_model_module_version": "1.5.0",
            "_model_name": "HBoxModel",
            "_view_count": null,
            "_view_module": "@jupyter-widgets/controls",
            "_view_module_version": "1.5.0",
            "_view_name": "HBoxView",
            "box_style": "",
            "children": [
              "IPY_MODEL_08e7aeab484e40caa8d0321ec825fea1",
              "IPY_MODEL_716b78ac6df44ac68635404e3ea8b166",
              "IPY_MODEL_e57296c161a64aa898293a9d417078ed"
            ],
            "layout": "IPY_MODEL_942d1ceef04e4f8e84669c07b44fba75"
          }
        },
        "08e7aeab484e40caa8d0321ec825fea1": {
          "model_module": "@jupyter-widgets/controls",
          "model_name": "HTMLModel",
          "model_module_version": "1.5.0",
          "state": {
            "_dom_classes": [],
            "_model_module": "@jupyter-widgets/controls",
            "_model_module_version": "1.5.0",
            "_model_name": "HTMLModel",
            "_view_count": null,
            "_view_module": "@jupyter-widgets/controls",
            "_view_module_version": "1.5.0",
            "_view_name": "HTMLView",
            "description": "",
            "description_tooltip": null,
            "layout": "IPY_MODEL_33dc2a33e98d4f7698b5921ca79373b8",
            "placeholder": "​",
            "style": "IPY_MODEL_756ffe5dc7c6425da7ed72cb044eb2fa",
            "value": "Downloading (…)cial_tokens_map.json: 100%"
          }
        },
        "716b78ac6df44ac68635404e3ea8b166": {
          "model_module": "@jupyter-widgets/controls",
          "model_name": "FloatProgressModel",
          "model_module_version": "1.5.0",
          "state": {
            "_dom_classes": [],
            "_model_module": "@jupyter-widgets/controls",
            "_model_module_version": "1.5.0",
            "_model_name": "FloatProgressModel",
            "_view_count": null,
            "_view_module": "@jupyter-widgets/controls",
            "_view_module_version": "1.5.0",
            "_view_name": "ProgressView",
            "bar_style": "success",
            "description": "",
            "description_tooltip": null,
            "layout": "IPY_MODEL_418e2b915ede49fca61038cb245048c5",
            "max": 239,
            "min": 0,
            "orientation": "horizontal",
            "style": "IPY_MODEL_fc557a0f9ac14b9a872f5b6ca078bd50",
            "value": 239
          }
        },
        "e57296c161a64aa898293a9d417078ed": {
          "model_module": "@jupyter-widgets/controls",
          "model_name": "HTMLModel",
          "model_module_version": "1.5.0",
          "state": {
            "_dom_classes": [],
            "_model_module": "@jupyter-widgets/controls",
            "_model_module_version": "1.5.0",
            "_model_name": "HTMLModel",
            "_view_count": null,
            "_view_module": "@jupyter-widgets/controls",
            "_view_module_version": "1.5.0",
            "_view_name": "HTMLView",
            "description": "",
            "description_tooltip": null,
            "layout": "IPY_MODEL_fc7d521d4683422e82c86e4858585bb8",
            "placeholder": "​",
            "style": "IPY_MODEL_b7ed605abb9647e486723851b4ccaa84",
            "value": " 239/239 [00:00&lt;00:00, 10.5kB/s]"
          }
        },
        "942d1ceef04e4f8e84669c07b44fba75": {
          "model_module": "@jupyter-widgets/base",
          "model_name": "LayoutModel",
          "model_module_version": "1.2.0",
          "state": {
            "_model_module": "@jupyter-widgets/base",
            "_model_module_version": "1.2.0",
            "_model_name": "LayoutModel",
            "_view_count": null,
            "_view_module": "@jupyter-widgets/base",
            "_view_module_version": "1.2.0",
            "_view_name": "LayoutView",
            "align_content": null,
            "align_items": null,
            "align_self": null,
            "border": null,
            "bottom": null,
            "display": null,
            "flex": null,
            "flex_flow": null,
            "grid_area": null,
            "grid_auto_columns": null,
            "grid_auto_flow": null,
            "grid_auto_rows": null,
            "grid_column": null,
            "grid_gap": null,
            "grid_row": null,
            "grid_template_areas": null,
            "grid_template_columns": null,
            "grid_template_rows": null,
            "height": null,
            "justify_content": null,
            "justify_items": null,
            "left": null,
            "margin": null,
            "max_height": null,
            "max_width": null,
            "min_height": null,
            "min_width": null,
            "object_fit": null,
            "object_position": null,
            "order": null,
            "overflow": null,
            "overflow_x": null,
            "overflow_y": null,
            "padding": null,
            "right": null,
            "top": null,
            "visibility": null,
            "width": null
          }
        },
        "33dc2a33e98d4f7698b5921ca79373b8": {
          "model_module": "@jupyter-widgets/base",
          "model_name": "LayoutModel",
          "model_module_version": "1.2.0",
          "state": {
            "_model_module": "@jupyter-widgets/base",
            "_model_module_version": "1.2.0",
            "_model_name": "LayoutModel",
            "_view_count": null,
            "_view_module": "@jupyter-widgets/base",
            "_view_module_version": "1.2.0",
            "_view_name": "LayoutView",
            "align_content": null,
            "align_items": null,
            "align_self": null,
            "border": null,
            "bottom": null,
            "display": null,
            "flex": null,
            "flex_flow": null,
            "grid_area": null,
            "grid_auto_columns": null,
            "grid_auto_flow": null,
            "grid_auto_rows": null,
            "grid_column": null,
            "grid_gap": null,
            "grid_row": null,
            "grid_template_areas": null,
            "grid_template_columns": null,
            "grid_template_rows": null,
            "height": null,
            "justify_content": null,
            "justify_items": null,
            "left": null,
            "margin": null,
            "max_height": null,
            "max_width": null,
            "min_height": null,
            "min_width": null,
            "object_fit": null,
            "object_position": null,
            "order": null,
            "overflow": null,
            "overflow_x": null,
            "overflow_y": null,
            "padding": null,
            "right": null,
            "top": null,
            "visibility": null,
            "width": null
          }
        },
        "756ffe5dc7c6425da7ed72cb044eb2fa": {
          "model_module": "@jupyter-widgets/controls",
          "model_name": "DescriptionStyleModel",
          "model_module_version": "1.5.0",
          "state": {
            "_model_module": "@jupyter-widgets/controls",
            "_model_module_version": "1.5.0",
            "_model_name": "DescriptionStyleModel",
            "_view_count": null,
            "_view_module": "@jupyter-widgets/base",
            "_view_module_version": "1.2.0",
            "_view_name": "StyleView",
            "description_width": ""
          }
        },
        "418e2b915ede49fca61038cb245048c5": {
          "model_module": "@jupyter-widgets/base",
          "model_name": "LayoutModel",
          "model_module_version": "1.2.0",
          "state": {
            "_model_module": "@jupyter-widgets/base",
            "_model_module_version": "1.2.0",
            "_model_name": "LayoutModel",
            "_view_count": null,
            "_view_module": "@jupyter-widgets/base",
            "_view_module_version": "1.2.0",
            "_view_name": "LayoutView",
            "align_content": null,
            "align_items": null,
            "align_self": null,
            "border": null,
            "bottom": null,
            "display": null,
            "flex": null,
            "flex_flow": null,
            "grid_area": null,
            "grid_auto_columns": null,
            "grid_auto_flow": null,
            "grid_auto_rows": null,
            "grid_column": null,
            "grid_gap": null,
            "grid_row": null,
            "grid_template_areas": null,
            "grid_template_columns": null,
            "grid_template_rows": null,
            "height": null,
            "justify_content": null,
            "justify_items": null,
            "left": null,
            "margin": null,
            "max_height": null,
            "max_width": null,
            "min_height": null,
            "min_width": null,
            "object_fit": null,
            "object_position": null,
            "order": null,
            "overflow": null,
            "overflow_x": null,
            "overflow_y": null,
            "padding": null,
            "right": null,
            "top": null,
            "visibility": null,
            "width": null
          }
        },
        "fc557a0f9ac14b9a872f5b6ca078bd50": {
          "model_module": "@jupyter-widgets/controls",
          "model_name": "ProgressStyleModel",
          "model_module_version": "1.5.0",
          "state": {
            "_model_module": "@jupyter-widgets/controls",
            "_model_module_version": "1.5.0",
            "_model_name": "ProgressStyleModel",
            "_view_count": null,
            "_view_module": "@jupyter-widgets/base",
            "_view_module_version": "1.2.0",
            "_view_name": "StyleView",
            "bar_color": null,
            "description_width": ""
          }
        },
        "fc7d521d4683422e82c86e4858585bb8": {
          "model_module": "@jupyter-widgets/base",
          "model_name": "LayoutModel",
          "model_module_version": "1.2.0",
          "state": {
            "_model_module": "@jupyter-widgets/base",
            "_model_module_version": "1.2.0",
            "_model_name": "LayoutModel",
            "_view_count": null,
            "_view_module": "@jupyter-widgets/base",
            "_view_module_version": "1.2.0",
            "_view_name": "LayoutView",
            "align_content": null,
            "align_items": null,
            "align_self": null,
            "border": null,
            "bottom": null,
            "display": null,
            "flex": null,
            "flex_flow": null,
            "grid_area": null,
            "grid_auto_columns": null,
            "grid_auto_flow": null,
            "grid_auto_rows": null,
            "grid_column": null,
            "grid_gap": null,
            "grid_row": null,
            "grid_template_areas": null,
            "grid_template_columns": null,
            "grid_template_rows": null,
            "height": null,
            "justify_content": null,
            "justify_items": null,
            "left": null,
            "margin": null,
            "max_height": null,
            "max_width": null,
            "min_height": null,
            "min_width": null,
            "object_fit": null,
            "object_position": null,
            "order": null,
            "overflow": null,
            "overflow_x": null,
            "overflow_y": null,
            "padding": null,
            "right": null,
            "top": null,
            "visibility": null,
            "width": null
          }
        },
        "b7ed605abb9647e486723851b4ccaa84": {
          "model_module": "@jupyter-widgets/controls",
          "model_name": "DescriptionStyleModel",
          "model_module_version": "1.5.0",
          "state": {
            "_model_module": "@jupyter-widgets/controls",
            "_model_module_version": "1.5.0",
            "_model_name": "DescriptionStyleModel",
            "_view_count": null,
            "_view_module": "@jupyter-widgets/base",
            "_view_module_version": "1.2.0",
            "_view_name": "StyleView",
            "description_width": ""
          }
        },
        "78d9331d842a4423939860b8740fc701": {
          "model_module": "@jupyter-widgets/controls",
          "model_name": "HBoxModel",
          "model_module_version": "1.5.0",
          "state": {
            "_dom_classes": [],
            "_model_module": "@jupyter-widgets/controls",
            "_model_module_version": "1.5.0",
            "_model_name": "HBoxModel",
            "_view_count": null,
            "_view_module": "@jupyter-widgets/controls",
            "_view_module_version": "1.5.0",
            "_view_name": "HBoxView",
            "box_style": "",
            "children": [
              "IPY_MODEL_2026af535df94763872504f316ca06ed",
              "IPY_MODEL_39abbda9d4874db3920d6c0ac5920491",
              "IPY_MODEL_c530b19ce6444f27bffb5547c1424872"
            ],
            "layout": "IPY_MODEL_c1c01b88a9b84b54adc7d6468ec518cc"
          }
        },
        "2026af535df94763872504f316ca06ed": {
          "model_module": "@jupyter-widgets/controls",
          "model_name": "HTMLModel",
          "model_module_version": "1.5.0",
          "state": {
            "_dom_classes": [],
            "_model_module": "@jupyter-widgets/controls",
            "_model_module_version": "1.5.0",
            "_model_name": "HTMLModel",
            "_view_count": null,
            "_view_module": "@jupyter-widgets/controls",
            "_view_module_version": "1.5.0",
            "_view_name": "HTMLView",
            "description": "",
            "description_tooltip": null,
            "layout": "IPY_MODEL_0f41133be3af4f47a0ebb4c1d9ccf4ac",
            "placeholder": "​",
            "style": "IPY_MODEL_00ea27db88a24d35874460eeae3d0338",
            "value": "Downloading pytorch_model.bin: 100%"
          }
        },
        "39abbda9d4874db3920d6c0ac5920491": {
          "model_module": "@jupyter-widgets/controls",
          "model_name": "FloatProgressModel",
          "model_module_version": "1.5.0",
          "state": {
            "_dom_classes": [],
            "_model_module": "@jupyter-widgets/controls",
            "_model_module_version": "1.5.0",
            "_model_name": "FloatProgressModel",
            "_view_count": null,
            "_view_module": "@jupyter-widgets/controls",
            "_view_module_version": "1.5.0",
            "_view_name": "ProgressView",
            "bar_style": "success",
            "description": "",
            "description_tooltip": null,
            "layout": "IPY_MODEL_e4596eb6140b4a488528c02946cdfbb1",
            "max": 1421605805,
            "min": 0,
            "orientation": "horizontal",
            "style": "IPY_MODEL_5ca89fdebc5e456dabcdb9a17ef8a14d",
            "value": 1421605805
          }
        },
        "c530b19ce6444f27bffb5547c1424872": {
          "model_module": "@jupyter-widgets/controls",
          "model_name": "HTMLModel",
          "model_module_version": "1.5.0",
          "state": {
            "_dom_classes": [],
            "_model_module": "@jupyter-widgets/controls",
            "_model_module_version": "1.5.0",
            "_model_name": "HTMLModel",
            "_view_count": null,
            "_view_module": "@jupyter-widgets/controls",
            "_view_module_version": "1.5.0",
            "_view_name": "HTMLView",
            "description": "",
            "description_tooltip": null,
            "layout": "IPY_MODEL_85dff9c2fa5c411cbfa82f2453210f08",
            "placeholder": "​",
            "style": "IPY_MODEL_6bebc4e1f93b4e2d8be518ce34cc5c2c",
            "value": " 1.42G/1.42G [01:12&lt;00:00, 21.1MB/s]"
          }
        },
        "c1c01b88a9b84b54adc7d6468ec518cc": {
          "model_module": "@jupyter-widgets/base",
          "model_name": "LayoutModel",
          "model_module_version": "1.2.0",
          "state": {
            "_model_module": "@jupyter-widgets/base",
            "_model_module_version": "1.2.0",
            "_model_name": "LayoutModel",
            "_view_count": null,
            "_view_module": "@jupyter-widgets/base",
            "_view_module_version": "1.2.0",
            "_view_name": "LayoutView",
            "align_content": null,
            "align_items": null,
            "align_self": null,
            "border": null,
            "bottom": null,
            "display": null,
            "flex": null,
            "flex_flow": null,
            "grid_area": null,
            "grid_auto_columns": null,
            "grid_auto_flow": null,
            "grid_auto_rows": null,
            "grid_column": null,
            "grid_gap": null,
            "grid_row": null,
            "grid_template_areas": null,
            "grid_template_columns": null,
            "grid_template_rows": null,
            "height": null,
            "justify_content": null,
            "justify_items": null,
            "left": null,
            "margin": null,
            "max_height": null,
            "max_width": null,
            "min_height": null,
            "min_width": null,
            "object_fit": null,
            "object_position": null,
            "order": null,
            "overflow": null,
            "overflow_x": null,
            "overflow_y": null,
            "padding": null,
            "right": null,
            "top": null,
            "visibility": null,
            "width": null
          }
        },
        "0f41133be3af4f47a0ebb4c1d9ccf4ac": {
          "model_module": "@jupyter-widgets/base",
          "model_name": "LayoutModel",
          "model_module_version": "1.2.0",
          "state": {
            "_model_module": "@jupyter-widgets/base",
            "_model_module_version": "1.2.0",
            "_model_name": "LayoutModel",
            "_view_count": null,
            "_view_module": "@jupyter-widgets/base",
            "_view_module_version": "1.2.0",
            "_view_name": "LayoutView",
            "align_content": null,
            "align_items": null,
            "align_self": null,
            "border": null,
            "bottom": null,
            "display": null,
            "flex": null,
            "flex_flow": null,
            "grid_area": null,
            "grid_auto_columns": null,
            "grid_auto_flow": null,
            "grid_auto_rows": null,
            "grid_column": null,
            "grid_gap": null,
            "grid_row": null,
            "grid_template_areas": null,
            "grid_template_columns": null,
            "grid_template_rows": null,
            "height": null,
            "justify_content": null,
            "justify_items": null,
            "left": null,
            "margin": null,
            "max_height": null,
            "max_width": null,
            "min_height": null,
            "min_width": null,
            "object_fit": null,
            "object_position": null,
            "order": null,
            "overflow": null,
            "overflow_x": null,
            "overflow_y": null,
            "padding": null,
            "right": null,
            "top": null,
            "visibility": null,
            "width": null
          }
        },
        "00ea27db88a24d35874460eeae3d0338": {
          "model_module": "@jupyter-widgets/controls",
          "model_name": "DescriptionStyleModel",
          "model_module_version": "1.5.0",
          "state": {
            "_model_module": "@jupyter-widgets/controls",
            "_model_module_version": "1.5.0",
            "_model_name": "DescriptionStyleModel",
            "_view_count": null,
            "_view_module": "@jupyter-widgets/base",
            "_view_module_version": "1.2.0",
            "_view_name": "StyleView",
            "description_width": ""
          }
        },
        "e4596eb6140b4a488528c02946cdfbb1": {
          "model_module": "@jupyter-widgets/base",
          "model_name": "LayoutModel",
          "model_module_version": "1.2.0",
          "state": {
            "_model_module": "@jupyter-widgets/base",
            "_model_module_version": "1.2.0",
            "_model_name": "LayoutModel",
            "_view_count": null,
            "_view_module": "@jupyter-widgets/base",
            "_view_module_version": "1.2.0",
            "_view_name": "LayoutView",
            "align_content": null,
            "align_items": null,
            "align_self": null,
            "border": null,
            "bottom": null,
            "display": null,
            "flex": null,
            "flex_flow": null,
            "grid_area": null,
            "grid_auto_columns": null,
            "grid_auto_flow": null,
            "grid_auto_rows": null,
            "grid_column": null,
            "grid_gap": null,
            "grid_row": null,
            "grid_template_areas": null,
            "grid_template_columns": null,
            "grid_template_rows": null,
            "height": null,
            "justify_content": null,
            "justify_items": null,
            "left": null,
            "margin": null,
            "max_height": null,
            "max_width": null,
            "min_height": null,
            "min_width": null,
            "object_fit": null,
            "object_position": null,
            "order": null,
            "overflow": null,
            "overflow_x": null,
            "overflow_y": null,
            "padding": null,
            "right": null,
            "top": null,
            "visibility": null,
            "width": null
          }
        },
        "5ca89fdebc5e456dabcdb9a17ef8a14d": {
          "model_module": "@jupyter-widgets/controls",
          "model_name": "ProgressStyleModel",
          "model_module_version": "1.5.0",
          "state": {
            "_model_module": "@jupyter-widgets/controls",
            "_model_module_version": "1.5.0",
            "_model_name": "ProgressStyleModel",
            "_view_count": null,
            "_view_module": "@jupyter-widgets/base",
            "_view_module_version": "1.2.0",
            "_view_name": "StyleView",
            "bar_color": null,
            "description_width": ""
          }
        },
        "85dff9c2fa5c411cbfa82f2453210f08": {
          "model_module": "@jupyter-widgets/base",
          "model_name": "LayoutModel",
          "model_module_version": "1.2.0",
          "state": {
            "_model_module": "@jupyter-widgets/base",
            "_model_module_version": "1.2.0",
            "_model_name": "LayoutModel",
            "_view_count": null,
            "_view_module": "@jupyter-widgets/base",
            "_view_module_version": "1.2.0",
            "_view_name": "LayoutView",
            "align_content": null,
            "align_items": null,
            "align_self": null,
            "border": null,
            "bottom": null,
            "display": null,
            "flex": null,
            "flex_flow": null,
            "grid_area": null,
            "grid_auto_columns": null,
            "grid_auto_flow": null,
            "grid_auto_rows": null,
            "grid_column": null,
            "grid_gap": null,
            "grid_row": null,
            "grid_template_areas": null,
            "grid_template_columns": null,
            "grid_template_rows": null,
            "height": null,
            "justify_content": null,
            "justify_items": null,
            "left": null,
            "margin": null,
            "max_height": null,
            "max_width": null,
            "min_height": null,
            "min_width": null,
            "object_fit": null,
            "object_position": null,
            "order": null,
            "overflow": null,
            "overflow_x": null,
            "overflow_y": null,
            "padding": null,
            "right": null,
            "top": null,
            "visibility": null,
            "width": null
          }
        },
        "6bebc4e1f93b4e2d8be518ce34cc5c2c": {
          "model_module": "@jupyter-widgets/controls",
          "model_name": "DescriptionStyleModel",
          "model_module_version": "1.5.0",
          "state": {
            "_model_module": "@jupyter-widgets/controls",
            "_model_module_version": "1.5.0",
            "_model_name": "DescriptionStyleModel",
            "_view_count": null,
            "_view_module": "@jupyter-widgets/base",
            "_view_module_version": "1.2.0",
            "_view_name": "StyleView",
            "description_width": ""
          }
        }
      }
    },
    "accelerator": "GPU"
  },
  "nbformat": 4,
  "nbformat_minor": 0
}